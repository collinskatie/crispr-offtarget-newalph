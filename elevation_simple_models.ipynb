{
 "cells": [
  {
   "cell_type": "code",
   "execution_count": 1,
   "metadata": {},
   "outputs": [
    {
     "name": "stderr",
     "output_type": "stream",
     "text": [
      "Using TensorFlow backend.\n"
     ]
    }
   ],
   "source": [
    "import os\n",
    "import platform\n",
    "import random\n",
    "import shutil\n",
    "import sys\n",
    "\n",
    "import h5py\n",
    "import numpy as np\n",
    "import matplotlib.pyplot as plt\n",
    "import pandas as pd\n",
    "import seaborn as sns\n",
    "import sklearn.metrics\n",
    "import tensorflow as tf\n",
    "from tensorflow.python.saved_model import tag_constants\n",
    "from tqdm import tqdm_notebook as tqdm\n",
    "import keras \n",
    "%matplotlib inline\n",
    "random.seed(0)"
   ]
  },
  {
   "cell_type": "code",
   "execution_count": 2,
   "metadata": {},
   "outputs": [],
   "source": [
    "def accuracy_plot(model, title): \n",
    "    plt.plot(model.history.history['acc'])\n",
    "    plt.plot(model.history.history['val_acc'])\n",
    "    plt.title(title)\n",
    "    plt.ylabel('Accuracy')\n",
    "    plt.xlabel('Epoch')\n",
    "    plt.legend(['Train', 'Test'], loc='upper left')\n",
    "    plt.show()\n",
    "\n",
    "def loss_plot(model, title): \n",
    "    plt.plot(model.history.history['loss'])\n",
    "    plt.plot(model.history.history['val_loss'])\n",
    "    plt.title(title)\n",
    "    plt.ylabel('Loss')\n",
    "    plt.xlabel('Epoch')\n",
    "    plt.legend(['Train', 'Test'], loc='upper left')\n",
    "    plt.show()\n",
    "    \n",
    "# plotting\n",
    "\n",
    "import itertools\n",
    "import numpy as np\n",
    "import matplotlib.pyplot as plt\n",
    "\n",
    "from sklearn import svm, datasets\n",
    "from sklearn.model_selection import train_test_split\n",
    "from sklearn.metrics import confusion_matrix\n",
    "from sklearn import metrics\n",
    "\n",
    "def confusion_plot(y_true_labels, y_pred_labels, title, class_names): \n",
    "\n",
    "    def plot_confusion_matrix(cm, classes,\n",
    "                              normalize=False,\n",
    "                              title='Confusion matrix',\n",
    "                              cmap=plt.cm.Blues):\n",
    "        \"\"\"\n",
    "        This function prints and plots the confusion matrix.\n",
    "        Normalization can be applied by setting `normalize=True`.\n",
    "        \"\"\"\n",
    "        if normalize:\n",
    "            cm = cm.astype('float') / cm.sum(axis=1)[:, np.newaxis]\n",
    "            print(\"All data confusion matrix\")\n",
    "        else:\n",
    "            print('Confusion matrix, without normalization')\n",
    "\n",
    "        print(cm)\n",
    "\n",
    "        plt.imshow(cm, interpolation='nearest', cmap=cmap)\n",
    "        plt.title(title)\n",
    "        plt.colorbar()\n",
    "        tick_marks = np.arange(len(classes))\n",
    "        plt.xticks(tick_marks, classes, rotation=45)\n",
    "        plt.yticks(tick_marks, classes)\n",
    "\n",
    "        fmt = '.2f' if normalize else 'd'\n",
    "        thresh = cm.max() / 2.\n",
    "        for i, j in itertools.product(range(cm.shape[0]), range(cm.shape[1])):\n",
    "            plt.text(j, i, format(cm[i, j], fmt),\n",
    "                     horizontalalignment=\"center\",\n",
    "                     color=\"white\" if cm[i, j] > thresh else \"black\")\n",
    "\n",
    "        plt.tight_layout()\n",
    "        plt.ylabel('True label')\n",
    "        plt.xlabel('Predicted label')\n",
    "\n",
    "    # Compute confusion matrix\n",
    "    cnf_matrix = confusion_matrix(y_true_labels, y_pred_labels)\n",
    "    np.set_printoptions(precision=2)\n",
    "\n",
    "    # Plot non-normalized confusion matrix\n",
    "    plt.figure()\n",
    "    plot_confusion_matrix(cnf_matrix, classes=class_names, normalize=False,\n",
    "                          title=title)\n",
    "\n",
    "    plt.show()\n",
    "    \n",
    "    # Plot normalized confusion matrix\n",
    "    plt.figure()\n",
    "    plot_confusion_matrix(cnf_matrix, classes=class_names, normalize=True,\n",
    "                          title=title)\n",
    "\n",
    "    plt.show()"
   ]
  },
  {
   "cell_type": "code",
   "execution_count": 3,
   "metadata": {},
   "outputs": [],
   "source": [
    "# read in off-target data from elevation team\n",
    "# this is th.e CD33 data (see Doench 2016 paper) \n",
    "data_dir = '/data/'\n",
    "# diff sheets, so need to read in \n",
    "file_name = data_dir + 'CD33_data_postfilter.csv'\n",
    "df = pd.read_csv(file_name, sep = ',')"
   ]
  },
  {
   "cell_type": "code",
   "execution_count": 4,
   "metadata": {},
   "outputs": [
    {
     "data": {
      "text/html": [
       "<div>\n",
       "<style scoped>\n",
       "    .dataframe tbody tr th:only-of-type {\n",
       "        vertical-align: middle;\n",
       "    }\n",
       "\n",
       "    .dataframe tbody tr th {\n",
       "        vertical-align: top;\n",
       "    }\n",
       "\n",
       "    .dataframe thead th {\n",
       "        text-align: right;\n",
       "    }\n",
       "</style>\n",
       "<table border=\"1\" class=\"dataframe\">\n",
       "  <thead>\n",
       "    <tr style=\"text-align: right;\">\n",
       "      <th></th>\n",
       "      <th>ConstructBarcode</th>\n",
       "      <th>MutatedSequence</th>\n",
       "      <th>WTSequence</th>\n",
       "      <th>Annotation</th>\n",
       "      <th>TranscriptID</th>\n",
       "      <th>Protein Annotation</th>\n",
       "      <th>Day21-ETP</th>\n",
       "      <th>Category</th>\n",
       "      <th>Position</th>\n",
       "    </tr>\n",
       "  </thead>\n",
       "  <tbody>\n",
       "    <tr>\n",
       "      <th>0</th>\n",
       "      <td>TGTCGTAGTAGGGTATGGGA</td>\n",
       "      <td>TGTCGTAGTAGGGTATGGGA</td>\n",
       "      <td>TGTCGTAGTAGGGTATGGGA</td>\n",
       "      <td>TGG</td>\n",
       "      <td>ENST00000262262</td>\n",
       "      <td>12.64</td>\n",
       "      <td>3.575724</td>\n",
       "      <td>PAM</td>\n",
       "      <td>NaN</td>\n",
       "    </tr>\n",
       "    <tr>\n",
       "      <th>1</th>\n",
       "      <td>TGGGGAGTTCTTGTCGTAGT</td>\n",
       "      <td>TGGGGAGTTCTTGTCGTAGT</td>\n",
       "      <td>TGGGGAGTTCTTGTCGTAGT</td>\n",
       "      <td>AGG</td>\n",
       "      <td>ENST00000262262</td>\n",
       "      <td>13.74</td>\n",
       "      <td>3.477013</td>\n",
       "      <td>PAM</td>\n",
       "      <td>NaN</td>\n",
       "    </tr>\n",
       "    <tr>\n",
       "      <th>2</th>\n",
       "      <td>TCCAGCGAACTTCACCTGAC</td>\n",
       "      <td>TCCAGCGAACTTCACCTGAC</td>\n",
       "      <td>TCCAGCGAACTTCACCTGAC</td>\n",
       "      <td>AGG</td>\n",
       "      <td>ENST00000262262</td>\n",
       "      <td>58.52</td>\n",
       "      <td>3.378409</td>\n",
       "      <td>PAM</td>\n",
       "      <td>NaN</td>\n",
       "    </tr>\n",
       "    <tr>\n",
       "      <th>3</th>\n",
       "      <td>CCCCAGGACTACTCACTCCT</td>\n",
       "      <td>CCCCAGGACTACTCACTCCT</td>\n",
       "      <td>CCCCAGGACTACTCACTCCT</td>\n",
       "      <td>CGG</td>\n",
       "      <td>ENST00000262262</td>\n",
       "      <td>53.30</td>\n",
       "      <td>3.353301</td>\n",
       "      <td>PAM</td>\n",
       "      <td>NaN</td>\n",
       "    </tr>\n",
       "    <tr>\n",
       "      <th>4</th>\n",
       "      <td>GAACCAGTAACCATGAACTG</td>\n",
       "      <td>GAACCAGTAACCATGAACTG</td>\n",
       "      <td>GAACCAGTAACCATGAACTG</td>\n",
       "      <td>GGG</td>\n",
       "      <td>ENST00000262262</td>\n",
       "      <td>15.38</td>\n",
       "      <td>3.350461</td>\n",
       "      <td>PAM</td>\n",
       "      <td>NaN</td>\n",
       "    </tr>\n",
       "  </tbody>\n",
       "</table>\n",
       "</div>"
      ],
      "text/plain": [
       "       ConstructBarcode       MutatedSequence            WTSequence  \\\n",
       "0  TGTCGTAGTAGGGTATGGGA  TGTCGTAGTAGGGTATGGGA  TGTCGTAGTAGGGTATGGGA   \n",
       "1  TGGGGAGTTCTTGTCGTAGT  TGGGGAGTTCTTGTCGTAGT  TGGGGAGTTCTTGTCGTAGT   \n",
       "2  TCCAGCGAACTTCACCTGAC  TCCAGCGAACTTCACCTGAC  TCCAGCGAACTTCACCTGAC   \n",
       "3  CCCCAGGACTACTCACTCCT  CCCCAGGACTACTCACTCCT  CCCCAGGACTACTCACTCCT   \n",
       "4  GAACCAGTAACCATGAACTG  GAACCAGTAACCATGAACTG  GAACCAGTAACCATGAACTG   \n",
       "\n",
       "  Annotation     TranscriptID  Protein Annotation  Day21-ETP Category  \\\n",
       "0        TGG  ENST00000262262               12.64   3.575724      PAM   \n",
       "1        AGG  ENST00000262262               13.74   3.477013      PAM   \n",
       "2        AGG  ENST00000262262               58.52   3.378409      PAM   \n",
       "3        CGG  ENST00000262262               53.30   3.353301      PAM   \n",
       "4        GGG  ENST00000262262               15.38   3.350461      PAM   \n",
       "\n",
       "   Position  \n",
       "0       NaN  \n",
       "1       NaN  \n",
       "2       NaN  \n",
       "3       NaN  \n",
       "4       NaN  "
      ]
     },
     "execution_count": 4,
     "metadata": {},
     "output_type": "execute_result"
    }
   ],
   "source": [
    "df.head(5)"
   ]
  },
  {
   "cell_type": "code",
   "execution_count": 5,
   "metadata": {},
   "outputs": [
    {
     "data": {
      "text/plain": [
       "Index(['ConstructBarcode', 'MutatedSequence', 'WTSequence', 'Annotation',\n",
       "       'TranscriptID', 'Protein Annotation', 'Day21-ETP', 'Category',\n",
       "       'Position'],\n",
       "      dtype='object')"
      ]
     },
     "execution_count": 5,
     "metadata": {},
     "output_type": "execute_result"
    }
   ],
   "source": [
    "df.columns"
   ]
  },
  {
   "cell_type": "code",
   "execution_count": 6,
   "metadata": {},
   "outputs": [
    {
     "data": {
      "text/plain": [
       "9979"
      ]
     },
     "execution_count": 6,
     "metadata": {},
     "output_type": "execute_result"
    }
   ],
   "source": [
    "# get number of sequences\n",
    "len(df['WTSequence'])"
   ]
  },
  {
   "cell_type": "code",
   "execution_count": 7,
   "metadata": {},
   "outputs": [
    {
     "name": "stdout",
     "output_type": "stream",
     "text": [
      "Elevation guide:  20\n",
      "Elevation off-target: 20\n"
     ]
    }
   ],
   "source": [
    "# check lengths -- confirm all are same when comparing across datasets\n",
    "print('Elevation guide: ', len(df['WTSequence'][0])) # NOTE: WT seq is the reverse complement of guide \n",
    "print('Elevation off-target:', len(df['MutatedSequence'][0]))"
   ]
  },
  {
   "cell_type": "code",
   "execution_count": 8,
   "metadata": {},
   "outputs": [
    {
     "name": "stdout",
     "output_type": "stream",
     "text": [
      "Elevation: Distribution of Off-Target Scores\n"
     ]
    },
    {
     "data": {
      "image/png": "[encoded data removed]",
      "text/plain": [
       "<Figure size 432x288 with 1 Axes>"
      ]
     },
     "metadata": {
      "needs_background": "light"
     },
     "output_type": "display_data"
    }
   ],
   "source": [
    "# distribution of continous off-target scores\n",
    "print('Elevation: Distribution of Off-Target Scores')\n",
    "sns.distplot(df['Day21-ETP'], kde=True, rug=False)\n",
    "plt.show()"
   ]
  },
  {
   "cell_type": "code",
   "execution_count": 9,
   "metadata": {},
   "outputs": [],
   "source": [
    "# new encoding will map to a new alphabet based on the correspondance of guide and off-target\n",
    "new_alph_map = {'AA': 'K', 'AT': 'R', 'AC': 'Z', 'AG': 'Y', 'TT': 'L', 'TC': 'M', 'TG':'J', \n",
    "                'CC': 'P', 'CG':'H', 'GG': 'E', 'N':'W'}\n",
    "seq_len = len(df['WTSequence'][0])\n",
    "encoded_seqs = [] \n",
    "for idx,(guide,ot) in enumerate(zip(df['WTSequence'], df['MutatedSequence'])):\n",
    "    new_seq = ''\n",
    "    for g,o in zip(guide,ot):\n",
    "        # if '-', imagine it's a match -- may need to CHANGE\n",
    "        if o == '-': \n",
    "            new_seq += new_alph_map[g+g]\n",
    "            continue\n",
    "        # combine guide and ot nt to get new letter\n",
    "        code = g+o\n",
    "        if code in new_alph_map: new_seq += new_alph_map[code]\n",
    "        else: new_seq += new_alph_map[o+g] # reverse code\n",
    "    # NOTE: handle case where some are less than mutated sequence is missing a base at end (just call N/W)\n",
    "    if len(new_seq) < seq_len:\n",
    "        encoded_seqs.append(new_seq+'W')\n",
    "    else: encoded_seqs.append(new_seq)"
   ]
  },
  {
   "cell_type": "code",
   "execution_count": 10,
   "metadata": {},
   "outputs": [
    {
     "data": {
      "text/html": [
       "<div>\n",
       "<style scoped>\n",
       "    .dataframe tbody tr th:only-of-type {\n",
       "        vertical-align: middle;\n",
       "    }\n",
       "\n",
       "    .dataframe tbody tr th {\n",
       "        vertical-align: top;\n",
       "    }\n",
       "\n",
       "    .dataframe thead th {\n",
       "        text-align: right;\n",
       "    }\n",
       "</style>\n",
       "<table border=\"1\" class=\"dataframe\">\n",
       "  <thead>\n",
       "    <tr style=\"text-align: right;\">\n",
       "      <th></th>\n",
       "      <th>ConstructBarcode</th>\n",
       "      <th>MutatedSequence</th>\n",
       "      <th>WTSequence</th>\n",
       "      <th>Annotation</th>\n",
       "      <th>TranscriptID</th>\n",
       "      <th>Protein Annotation</th>\n",
       "      <th>Day21-ETP</th>\n",
       "      <th>Category</th>\n",
       "      <th>Position</th>\n",
       "      <th>encoded_seqs</th>\n",
       "    </tr>\n",
       "  </thead>\n",
       "  <tbody>\n",
       "    <tr>\n",
       "      <th>0</th>\n",
       "      <td>TGTCGTAGTAGGGTATGGGA</td>\n",
       "      <td>TGTCGTAGTAGGGTATGGGA</td>\n",
       "      <td>TGTCGTAGTAGGGTATGGGA</td>\n",
       "      <td>TGG</td>\n",
       "      <td>ENST00000262262</td>\n",
       "      <td>12.64</td>\n",
       "      <td>3.575724</td>\n",
       "      <td>PAM</td>\n",
       "      <td>NaN</td>\n",
       "      <td>LELPELKELKEEELKLEEEK</td>\n",
       "    </tr>\n",
       "    <tr>\n",
       "      <th>1</th>\n",
       "      <td>TGGGGAGTTCTTGTCGTAGT</td>\n",
       "      <td>TGGGGAGTTCTTGTCGTAGT</td>\n",
       "      <td>TGGGGAGTTCTTGTCGTAGT</td>\n",
       "      <td>AGG</td>\n",
       "      <td>ENST00000262262</td>\n",
       "      <td>13.74</td>\n",
       "      <td>3.477013</td>\n",
       "      <td>PAM</td>\n",
       "      <td>NaN</td>\n",
       "      <td>LEEEEKELLPLLELPELKEL</td>\n",
       "    </tr>\n",
       "    <tr>\n",
       "      <th>2</th>\n",
       "      <td>TCCAGCGAACTTCACCTGAC</td>\n",
       "      <td>TCCAGCGAACTTCACCTGAC</td>\n",
       "      <td>TCCAGCGAACTTCACCTGAC</td>\n",
       "      <td>AGG</td>\n",
       "      <td>ENST00000262262</td>\n",
       "      <td>58.52</td>\n",
       "      <td>3.378409</td>\n",
       "      <td>PAM</td>\n",
       "      <td>NaN</td>\n",
       "      <td>LPPKEPEKKPLLPKPPLEKP</td>\n",
       "    </tr>\n",
       "    <tr>\n",
       "      <th>3</th>\n",
       "      <td>CCCCAGGACTACTCACTCCT</td>\n",
       "      <td>CCCCAGGACTACTCACTCCT</td>\n",
       "      <td>CCCCAGGACTACTCACTCCT</td>\n",
       "      <td>CGG</td>\n",
       "      <td>ENST00000262262</td>\n",
       "      <td>53.30</td>\n",
       "      <td>3.353301</td>\n",
       "      <td>PAM</td>\n",
       "      <td>NaN</td>\n",
       "      <td>PPPPKEEKPLKPLPKPLPPL</td>\n",
       "    </tr>\n",
       "    <tr>\n",
       "      <th>4</th>\n",
       "      <td>GAACCAGTAACCATGAACTG</td>\n",
       "      <td>GAACCAGTAACCATGAACTG</td>\n",
       "      <td>GAACCAGTAACCATGAACTG</td>\n",
       "      <td>GGG</td>\n",
       "      <td>ENST00000262262</td>\n",
       "      <td>15.38</td>\n",
       "      <td>3.350461</td>\n",
       "      <td>PAM</td>\n",
       "      <td>NaN</td>\n",
       "      <td>EKKPPKELKKPPKLEKKPLE</td>\n",
       "    </tr>\n",
       "  </tbody>\n",
       "</table>\n",
       "</div>"
      ],
      "text/plain": [
       "       ConstructBarcode       MutatedSequence            WTSequence  \\\n",
       "0  TGTCGTAGTAGGGTATGGGA  TGTCGTAGTAGGGTATGGGA  TGTCGTAGTAGGGTATGGGA   \n",
       "1  TGGGGAGTTCTTGTCGTAGT  TGGGGAGTTCTTGTCGTAGT  TGGGGAGTTCTTGTCGTAGT   \n",
       "2  TCCAGCGAACTTCACCTGAC  TCCAGCGAACTTCACCTGAC  TCCAGCGAACTTCACCTGAC   \n",
       "3  CCCCAGGACTACTCACTCCT  CCCCAGGACTACTCACTCCT  CCCCAGGACTACTCACTCCT   \n",
       "4  GAACCAGTAACCATGAACTG  GAACCAGTAACCATGAACTG  GAACCAGTAACCATGAACTG   \n",
       "\n",
       "  Annotation     TranscriptID  Protein Annotation  Day21-ETP Category  \\\n",
       "0        TGG  ENST00000262262               12.64   3.575724      PAM   \n",
       "1        AGG  ENST00000262262               13.74   3.477013      PAM   \n",
       "2        AGG  ENST00000262262               58.52   3.378409      PAM   \n",
       "3        CGG  ENST00000262262               53.30   3.353301      PAM   \n",
       "4        GGG  ENST00000262262               15.38   3.350461      PAM   \n",
       "\n",
       "   Position          encoded_seqs  \n",
       "0       NaN  LELPELKELKEEELKLEEEK  \n",
       "1       NaN  LEEEEKELLPLLELPELKEL  \n",
       "2       NaN  LPPKEPEKKPLLPKPPLEKP  \n",
       "3       NaN  PPPPKEEKPLKPLPKPLPPL  \n",
       "4       NaN  EKKPPKELKKPPKLEKKPLE  "
      ]
     },
     "execution_count": 10,
     "metadata": {},
     "output_type": "execute_result"
    }
   ],
   "source": [
    "df['encoded_seqs'] = encoded_seqs\n",
    "df.head(5)"
   ]
  },
  {
   "cell_type": "code",
   "execution_count": 11,
   "metadata": {},
   "outputs": [],
   "source": [
    "# get the Y values (what we are trying to predict)\n",
    "ot_thresh = 1 # based on paper github (see code in file: https://github.com/Microsoft/Elevation/blob/master/elevation/prediction_pipeline.py)\n",
    "ot_score = [0 if score < ot_thresh else 1 for score in df['Day21-ETP']]\n",
    "df['off_target_score'] = ot_score"
   ]
  },
  {
   "cell_type": "code",
   "execution_count": 12,
   "metadata": {},
   "outputs": [
    {
     "name": "stderr",
     "output_type": "stream",
     "text": [
      "/Users/kcollins/anaconda/envs/deeptoehold/lib/python3.6/site-packages/ipykernel_launcher.py:9: FutureWarning: Method .as_matrix will be removed in a future version. Use .values instead.\n",
      "  if __name__ == '__main__':\n"
     ]
    }
   ],
   "source": [
    "TRAIN_PCT = 0.7\n",
    "\n",
    "new_alph = list(new_alph_map.values())\n",
    "\n",
    "# one-hot encode\n",
    "def _get_one_hot_encoding(seq):\n",
    "  \"\"\"Generate one-hot encoding for a single nucleotide sequence.\"\"\"\n",
    "  return pd.get_dummies(\n",
    "      list(seq) + new_alph)[:-len(new_alph)].as_matrix().transpose()\n",
    "\n",
    "# dividing data into training and testing \n",
    "msk = np.random.rand(len(df)) < TRAIN_PCT\n",
    "# initial split\n",
    "train_df = df[msk]\n",
    "test_df = df[~msk]\n",
    "\n",
    "# now divide the remaining test data\n",
    "# one for ensuring we don't overfit; the other, held out until end \n",
    "msk = np.random.rand(len(test_df)) < 0.5 # 50% of untrained data is final test data\n",
    "val_df = test_df[msk]\n",
    "test_df = test_df[~msk]\n",
    "\n",
    "# now convert the data into one_hot_encoding \n",
    "input_col_name = 'encoded_seqs'\n",
    "all_data = np.stack(\n",
    "    [_get_one_hot_encoding(s) for s in df[input_col_name]]).astype(np.float32)\n",
    "train_data = np.stack(\n",
    "    [_get_one_hot_encoding(s) for s in train_df[input_col_name]]).astype(np.float32)\n",
    "val_data = np.stack(\n",
    "    [_get_one_hot_encoding(s) for s in val_df[input_col_name]]).astype(np.float32)\n",
    "test_data = np.stack(\n",
    "    [_get_one_hot_encoding(s) for s in test_df[input_col_name]]).astype(np.float32)"
   ]
  },
  {
   "cell_type": "code",
   "execution_count": 13,
   "metadata": {},
   "outputs": [
    {
     "name": "stdout",
     "output_type": "stream",
     "text": [
      "done\n"
     ]
    }
   ],
   "source": [
    "alph_len = len(new_alph)\n",
    "all_data_f = np.reshape(all_data, (-1,  alph_len* seq_len))\n",
    "train_data_f = np.reshape(train_data, (-1, alph_len * seq_len))\n",
    "val_data_f = np.reshape(val_data, (-1, alph_len * seq_len))\n",
    "test_data_f = np.reshape(test_data, (-1, alph_len * seq_len))\n",
    "\n",
    "output_col_name = 'Day21-ETP'; \n",
    "\n",
    "all_reg = np.array(df[output_col_name].astype(np.float32))\n",
    "train_reg = np.array(train_df[output_col_name].astype(np.float32))\n",
    "val_reg = np.array(val_df[output_col_name].astype(np.float32))\n",
    "test_reg = np.array(test_df[output_col_name].astype(np.float32))\n",
    "\n",
    "from keras.utils import to_categorical\n",
    "\n",
    "output_bin_col_name = 'off_target_score'; \n",
    "\n",
    "# NOTE: need one-hot encoding of the labels \n",
    "all_bins = to_categorical(np.array(df[output_bin_col_name].astype(np.float32)))\n",
    "train_bins = to_categorical(np.array(train_df[output_bin_col_name].astype(np.float32)))\n",
    "val_bins = to_categorical(np.array(val_df[output_bin_col_name].astype(np.float32)))\n",
    "test_bins = to_categorical(np.array(test_df[output_bin_col_name].astype(np.float32)))\n",
    "\n",
    "print('done')"
   ]
  },
  {
   "cell_type": "code",
   "execution_count": 14,
   "metadata": {},
   "outputs": [],
   "source": [
    "import keras as keras\n",
    "from keras.callbacks import TensorBoard\n",
    "from keras import metrics as metrics\n",
    "from keras.models import Sequential, Model\n",
    "from keras.layers import Dense, Dropout, Activation, Flatten, Input, Embedding\n",
    "from keras.optimizers import SGD"
   ]
  },
  {
   "cell_type": "code",
   "execution_count": 15,
   "metadata": {},
   "outputs": [],
   "source": [
    "Xf = train_data_f\n",
    "y = train_bins\n",
    "def simple_model(): \n",
    "    # already flattened b/c one_hot encoded\n",
    "    X_in = Input(shape=(Xf.shape[1],),dtype='float32')\n",
    "    H = Dense(60, activation = 'relu')(X_in)\n",
    "    H = Dense(2,activation=\"sigmoid\")(H)\n",
    "    model = Model(inputs=[X_in], outputs=H)\n",
    "    #model.summary()\n",
    "    #crossentropy is for probabilities\n",
    "    model.compile(loss='categorical_crossentropy',optimizer='adam',metrics=['accuracy'])\n",
    "    return model"
   ]
  },
  {
   "cell_type": "code",
   "execution_count": 16,
   "metadata": {},
   "outputs": [
    {
     "name": "stdout",
     "output_type": "stream",
     "text": [
      "_________________________________________________________________\n",
      "Layer (type)                 Output Shape              Param #   \n",
      "=================================================================\n",
      "input_1 (InputLayer)         (None, 220)               0         \n",
      "_________________________________________________________________\n",
      "dense_1 (Dense)              (None, 60)                13260     \n",
      "_________________________________________________________________\n",
      "dense_2 (Dense)              (None, 2)                 122       \n",
      "=================================================================\n",
      "Total params: 13,382\n",
      "Trainable params: 13,382\n",
      "Non-trainable params: 0\n",
      "_________________________________________________________________\n",
      "None\n",
      "7098/7098 [==============================] - 0s 15us/step\n",
      "Epoch 0: Loss  0.6934308350237365  accuracy  0.5280360663968363\n",
      "Train on 7098 samples, validate on 1476 samples\n",
      "Epoch 1/100\n",
      "7098/7098 [==============================] - 0s 26us/step - loss: 0.6102 - acc: 0.6455 - val_loss: 0.5332 - val_acc: 0.7276\n",
      "Epoch 2/100\n",
      "7098/7098 [==============================] - 0s 7us/step - loss: 0.4667 - acc: 0.7836 - val_loss: 0.4322 - val_acc: 0.8022\n",
      "Epoch 3/100\n",
      "7098/7098 [==============================] - 0s 7us/step - loss: 0.4105 - acc: 0.8104 - val_loss: 0.3998 - val_acc: 0.8130\n",
      "Epoch 4/100\n",
      "7098/7098 [==============================] - 0s 6us/step - loss: 0.3847 - acc: 0.8283 - val_loss: 0.3872 - val_acc: 0.8266\n",
      "Epoch 5/100\n",
      "7098/7098 [==============================] - 0s 7us/step - loss: 0.3654 - acc: 0.8393 - val_loss: 0.3762 - val_acc: 0.8340\n",
      "Epoch 6/100\n",
      "7098/7098 [==============================] - 0s 7us/step - loss: 0.3505 - acc: 0.8436 - val_loss: 0.3651 - val_acc: 0.8360\n",
      "Epoch 7/100\n",
      "7098/7098 [==============================] - 0s 7us/step - loss: 0.3375 - acc: 0.8498 - val_loss: 0.3579 - val_acc: 0.8469\n",
      "Epoch 8/100\n",
      "7098/7098 [==============================] - 0s 8us/step - loss: 0.3259 - acc: 0.8564 - val_loss: 0.3519 - val_acc: 0.8388\n",
      "Epoch 9/100\n",
      "7098/7098 [==============================] - 0s 8us/step - loss: 0.3173 - acc: 0.8588 - val_loss: 0.3447 - val_acc: 0.8374\n",
      "Epoch 10/100\n",
      "7098/7098 [==============================] - 0s 7us/step - loss: 0.3065 - acc: 0.8663 - val_loss: 0.3421 - val_acc: 0.8428\n",
      "Epoch 11/100\n",
      "7098/7098 [==============================] - 0s 6us/step - loss: 0.2989 - acc: 0.8691 - val_loss: 0.3413 - val_acc: 0.8462\n",
      "Epoch 12/100\n",
      "7098/7098 [==============================] - 0s 6us/step - loss: 0.2913 - acc: 0.8766 - val_loss: 0.3365 - val_acc: 0.8449\n",
      "Epoch 13/100\n",
      "7098/7098 [==============================] - 0s 9us/step - loss: 0.2811 - acc: 0.8788 - val_loss: 0.3314 - val_acc: 0.8489\n",
      "Epoch 14/100\n",
      "7098/7098 [==============================] - 0s 9us/step - loss: 0.2732 - acc: 0.8866 - val_loss: 0.3237 - val_acc: 0.8530\n",
      "Epoch 15/100\n",
      "7098/7098 [==============================] - 0s 10us/step - loss: 0.2670 - acc: 0.8864 - val_loss: 0.3274 - val_acc: 0.8476\n",
      "Epoch 16/100\n",
      "7098/7098 [==============================] - 0s 10us/step - loss: 0.2592 - acc: 0.8910 - val_loss: 0.3227 - val_acc: 0.8516\n",
      "Epoch 17/100\n",
      "7098/7098 [==============================] - 0s 10us/step - loss: 0.2523 - acc: 0.8949 - val_loss: 0.3222 - val_acc: 0.8557\n",
      "Epoch 18/100\n",
      "7098/7098 [==============================] - 0s 8us/step - loss: 0.2462 - acc: 0.8987 - val_loss: 0.3216 - val_acc: 0.8537\n",
      "Epoch 19/100\n",
      "7098/7098 [==============================] - 0s 9us/step - loss: 0.2410 - acc: 0.9035 - val_loss: 0.3185 - val_acc: 0.8543\n",
      "Epoch 20/100\n",
      "7098/7098 [==============================] - 0s 9us/step - loss: 0.2336 - acc: 0.9079 - val_loss: 0.3250 - val_acc: 0.8455\n",
      "Epoch 21/100\n",
      "7098/7098 [==============================] - 0s 8us/step - loss: 0.2290 - acc: 0.9069 - val_loss: 0.3173 - val_acc: 0.8530\n",
      "Epoch 22/100\n",
      "7098/7098 [==============================] - 0s 8us/step - loss: 0.2220 - acc: 0.9117 - val_loss: 0.3275 - val_acc: 0.8523\n",
      "Epoch 23/100\n",
      "7098/7098 [==============================] - 0s 9us/step - loss: 0.2173 - acc: 0.9145 - val_loss: 0.3140 - val_acc: 0.8543\n",
      "Epoch 24/100\n",
      "7098/7098 [==============================] - 0s 9us/step - loss: 0.2116 - acc: 0.9198 - val_loss: 0.3130 - val_acc: 0.8509\n",
      "Epoch 25/100\n",
      "7098/7098 [==============================] - 0s 11us/step - loss: 0.2074 - acc: 0.9180 - val_loss: 0.3134 - val_acc: 0.8550\n",
      "Epoch 26/100\n",
      "7098/7098 [==============================] - 0s 16us/step - loss: 0.2020 - acc: 0.9225 - val_loss: 0.3132 - val_acc: 0.8564\n",
      "Epoch 27/100\n",
      "7098/7098 [==============================] - 0s 25us/step - loss: 0.1961 - acc: 0.9242 - val_loss: 0.3163 - val_acc: 0.8584\n",
      "Epoch 28/100\n",
      "7098/7098 [==============================] - 0s 12us/step - loss: 0.1924 - acc: 0.9286 - val_loss: 0.3094 - val_acc: 0.8604\n",
      "Epoch 29/100\n",
      "7098/7098 [==============================] - 0s 9us/step - loss: 0.1876 - acc: 0.9329 - val_loss: 0.3145 - val_acc: 0.8577\n",
      "Epoch 30/100\n",
      "7098/7098 [==============================] - 0s 9us/step - loss: 0.1846 - acc: 0.9322 - val_loss: 0.3106 - val_acc: 0.8618\n",
      "Epoch 31/100\n",
      "7098/7098 [==============================] - 0s 8us/step - loss: 0.1788 - acc: 0.9343 - val_loss: 0.3184 - val_acc: 0.8584\n",
      "Epoch 32/100\n",
      "7098/7098 [==============================] - 0s 8us/step - loss: 0.1756 - acc: 0.9359 - val_loss: 0.3207 - val_acc: 0.8543\n",
      "Epoch 33/100\n",
      "7098/7098 [==============================] - 0s 7us/step - loss: 0.1728 - acc: 0.9373 - val_loss: 0.3106 - val_acc: 0.8618\n",
      "Epoch 34/100\n",
      "7098/7098 [==============================] - 0s 7us/step - loss: 0.1680 - acc: 0.9391 - val_loss: 0.3113 - val_acc: 0.8618\n",
      "Epoch 35/100\n",
      "7098/7098 [==============================] - 0s 8us/step - loss: 0.1644 - acc: 0.9428 - val_loss: 0.3112 - val_acc: 0.8598\n",
      "Epoch 36/100\n",
      "7098/7098 [==============================] - 0s 8us/step - loss: 0.1610 - acc: 0.9448 - val_loss: 0.3123 - val_acc: 0.8645\n",
      "Epoch 37/100\n",
      "7098/7098 [==============================] - 0s 8us/step - loss: 0.1567 - acc: 0.9467 - val_loss: 0.3133 - val_acc: 0.8570\n",
      "Epoch 38/100\n",
      "7098/7098 [==============================] - 0s 8us/step - loss: 0.1539 - acc: 0.9480 - val_loss: 0.3126 - val_acc: 0.8665\n",
      "Epoch 39/100\n",
      "7098/7098 [==============================] - 0s 8us/step - loss: 0.1500 - acc: 0.9483 - val_loss: 0.3122 - val_acc: 0.8638\n",
      "Epoch 40/100\n",
      "7098/7098 [==============================] - 0s 8us/step - loss: 0.1460 - acc: 0.9535 - val_loss: 0.3128 - val_acc: 0.8645\n",
      "Epoch 41/100\n",
      "7098/7098 [==============================] - 0s 7us/step - loss: 0.1444 - acc: 0.9542 - val_loss: 0.3196 - val_acc: 0.8591\n",
      "Epoch 42/100\n",
      "7098/7098 [==============================] - 0s 8us/step - loss: 0.1422 - acc: 0.9538 - val_loss: 0.3183 - val_acc: 0.8611\n",
      "Epoch 43/100\n",
      "7098/7098 [==============================] - 0s 10us/step - loss: 0.1381 - acc: 0.9565 - val_loss: 0.3123 - val_acc: 0.8652\n",
      "Epoch 44/100\n",
      "7098/7098 [==============================] - 0s 8us/step - loss: 0.1338 - acc: 0.9570 - val_loss: 0.3153 - val_acc: 0.8631\n",
      "Epoch 45/100\n",
      "7098/7098 [==============================] - 0s 9us/step - loss: 0.1307 - acc: 0.9591 - val_loss: 0.3232 - val_acc: 0.8625\n",
      "Epoch 46/100\n",
      "7098/7098 [==============================] - 0s 8us/step - loss: 0.1299 - acc: 0.9593 - val_loss: 0.3160 - val_acc: 0.8679\n",
      "Epoch 47/100\n",
      "7098/7098 [==============================] - 0s 8us/step - loss: 0.1256 - acc: 0.9632 - val_loss: 0.3252 - val_acc: 0.8604\n",
      "Epoch 48/100\n",
      "7098/7098 [==============================] - 0s 8us/step - loss: 0.1242 - acc: 0.9610 - val_loss: 0.3180 - val_acc: 0.8611\n",
      "Epoch 49/100\n",
      "7098/7098 [==============================] - 0s 8us/step - loss: 0.1206 - acc: 0.9628 - val_loss: 0.3208 - val_acc: 0.8645\n",
      "Epoch 50/100\n",
      "7098/7098 [==============================] - 0s 9us/step - loss: 0.1186 - acc: 0.9648 - val_loss: 0.3318 - val_acc: 0.8557\n",
      "Epoch 51/100\n",
      "7098/7098 [==============================] - 0s 7us/step - loss: 0.1161 - acc: 0.9645 - val_loss: 0.3272 - val_acc: 0.8611\n",
      "Epoch 52/100\n",
      "7098/7098 [==============================] - 0s 7us/step - loss: 0.1141 - acc: 0.9668 - val_loss: 0.3269 - val_acc: 0.8638\n",
      "Epoch 53/100\n",
      "7098/7098 [==============================] - 0s 9us/step - loss: 0.1136 - acc: 0.9669 - val_loss: 0.3274 - val_acc: 0.8570\n",
      "Epoch 54/100\n"
     ]
    },
    {
     "name": "stdout",
     "output_type": "stream",
     "text": [
      "7098/7098 [==============================] - 0s 8us/step - loss: 0.1106 - acc: 0.9668 - val_loss: 0.3253 - val_acc: 0.8625\n",
      "Epoch 55/100\n",
      "7098/7098 [==============================] - 0s 7us/step - loss: 0.1106 - acc: 0.9649 - val_loss: 0.3371 - val_acc: 0.8618\n",
      "Epoch 56/100\n",
      "7098/7098 [==============================] - 0s 8us/step - loss: 0.1059 - acc: 0.9690 - val_loss: 0.3334 - val_acc: 0.8591\n",
      "Epoch 57/100\n",
      "7098/7098 [==============================] - 0s 8us/step - loss: 0.1052 - acc: 0.9694 - val_loss: 0.3327 - val_acc: 0.8598\n",
      "Epoch 58/100\n",
      "7098/7098 [==============================] - 0s 8us/step - loss: 0.1034 - acc: 0.9707 - val_loss: 0.3327 - val_acc: 0.8652\n",
      "Epoch 59/100\n",
      "7098/7098 [==============================] - 0s 7us/step - loss: 0.1013 - acc: 0.9707 - val_loss: 0.3352 - val_acc: 0.8631\n",
      "Epoch 60/100\n",
      "7098/7098 [==============================] - 0s 8us/step - loss: 0.0986 - acc: 0.9722 - val_loss: 0.3369 - val_acc: 0.8598\n",
      "Epoch 61/100\n",
      "7098/7098 [==============================] - 0s 8us/step - loss: 0.1029 - acc: 0.9684 - val_loss: 0.3351 - val_acc: 0.8686\n",
      "Epoch 62/100\n",
      "7098/7098 [==============================] - 0s 8us/step - loss: 0.0952 - acc: 0.9730 - val_loss: 0.3366 - val_acc: 0.8618\n",
      "Epoch 63/100\n",
      "7098/7098 [==============================] - 0s 8us/step - loss: 0.0939 - acc: 0.9738 - val_loss: 0.3590 - val_acc: 0.8564\n",
      "Epoch 64/100\n",
      "7098/7098 [==============================] - 0s 8us/step - loss: 0.0924 - acc: 0.9746 - val_loss: 0.3465 - val_acc: 0.8564\n",
      "Epoch 65/100\n",
      "7098/7098 [==============================] - 0s 10us/step - loss: 0.0898 - acc: 0.9751 - val_loss: 0.3452 - val_acc: 0.8584\n",
      "Epoch 66/100\n",
      "7098/7098 [==============================] - 0s 8us/step - loss: 0.0882 - acc: 0.9765 - val_loss: 0.3501 - val_acc: 0.8591\n",
      "Epoch 67/100\n",
      "7098/7098 [==============================] - 0s 7us/step - loss: 0.0894 - acc: 0.9762 - val_loss: 0.3552 - val_acc: 0.8584\n",
      "Epoch 68/100\n",
      "7098/7098 [==============================] - 0s 7us/step - loss: 0.0867 - acc: 0.9760 - val_loss: 0.3518 - val_acc: 0.8557\n",
      "Epoch 69/100\n",
      "7098/7098 [==============================] - 0s 7us/step - loss: 0.0847 - acc: 0.9762 - val_loss: 0.3555 - val_acc: 0.8584\n",
      "Epoch 70/100\n",
      "7098/7098 [==============================] - 0s 7us/step - loss: 0.0824 - acc: 0.9783 - val_loss: 0.3529 - val_acc: 0.8631\n",
      "Epoch 71/100\n",
      "7098/7098 [==============================] - 0s 9us/step - loss: 0.0819 - acc: 0.9782 - val_loss: 0.3560 - val_acc: 0.8570\n",
      "Epoch 72/100\n",
      "7098/7098 [==============================] - 0s 8us/step - loss: 0.0803 - acc: 0.9765 - val_loss: 0.3559 - val_acc: 0.8645\n",
      "Epoch 73/100\n",
      "7098/7098 [==============================] - 0s 9us/step - loss: 0.0791 - acc: 0.9782 - val_loss: 0.3636 - val_acc: 0.8618\n",
      "Epoch 74/100\n",
      "7098/7098 [==============================] - 0s 9us/step - loss: 0.0779 - acc: 0.9782 - val_loss: 0.3616 - val_acc: 0.8598\n",
      "Epoch 75/100\n",
      "7098/7098 [==============================] - 0s 8us/step - loss: 0.0772 - acc: 0.9803 - val_loss: 0.3616 - val_acc: 0.8611\n",
      "Epoch 76/100\n",
      "7098/7098 [==============================] - 0s 8us/step - loss: 0.0756 - acc: 0.9780 - val_loss: 0.3655 - val_acc: 0.8638\n",
      "Epoch 77/100\n",
      "7098/7098 [==============================] - 0s 9us/step - loss: 0.0758 - acc: 0.9794 - val_loss: 0.3622 - val_acc: 0.8598\n",
      "Epoch 78/100\n",
      "7098/7098 [==============================] - 0s 8us/step - loss: 0.0734 - acc: 0.9803 - val_loss: 0.3695 - val_acc: 0.8564\n",
      "Epoch 79/100\n",
      "7098/7098 [==============================] - 0s 8us/step - loss: 0.0719 - acc: 0.9814 - val_loss: 0.3688 - val_acc: 0.8659\n",
      "Epoch 80/100\n",
      "7098/7098 [==============================] - 0s 8us/step - loss: 0.0710 - acc: 0.9799 - val_loss: 0.3773 - val_acc: 0.8638\n",
      "Epoch 81/100\n",
      "7098/7098 [==============================] - 0s 8us/step - loss: 0.0714 - acc: 0.9820 - val_loss: 0.3691 - val_acc: 0.8604\n",
      "Epoch 82/100\n",
      "7098/7098 [==============================] - 0s 7us/step - loss: 0.0711 - acc: 0.9814 - val_loss: 0.3766 - val_acc: 0.8638\n",
      "Epoch 83/100\n",
      "7098/7098 [==============================] - 0s 7us/step - loss: 0.0681 - acc: 0.9825 - val_loss: 0.3799 - val_acc: 0.8577\n",
      "Epoch 84/100\n",
      "7098/7098 [==============================] - 0s 7us/step - loss: 0.0673 - acc: 0.9821 - val_loss: 0.3838 - val_acc: 0.8611\n",
      "Epoch 85/100\n",
      "7098/7098 [==============================] - 0s 8us/step - loss: 0.0665 - acc: 0.9818 - val_loss: 0.3822 - val_acc: 0.8618\n",
      "Epoch 86/100\n",
      "7098/7098 [==============================] - 0s 8us/step - loss: 0.0654 - acc: 0.9821 - val_loss: 0.3807 - val_acc: 0.8604\n",
      "Epoch 87/100\n",
      "7098/7098 [==============================] - 0s 8us/step - loss: 0.0650 - acc: 0.9828 - val_loss: 0.3885 - val_acc: 0.8550\n",
      "Epoch 88/100\n",
      "7098/7098 [==============================] - 0s 8us/step - loss: 0.0636 - acc: 0.9822 - val_loss: 0.3868 - val_acc: 0.8638\n",
      "Epoch 89/100\n",
      "7098/7098 [==============================] - 0s 9us/step - loss: 0.0634 - acc: 0.9837 - val_loss: 0.3926 - val_acc: 0.8598\n",
      "Epoch 90/100\n",
      "7098/7098 [==============================] - 0s 8us/step - loss: 0.0619 - acc: 0.9834 - val_loss: 0.3879 - val_acc: 0.8618\n",
      "Epoch 91/100\n",
      "7098/7098 [==============================] - 0s 8us/step - loss: 0.0612 - acc: 0.9839 - val_loss: 0.3934 - val_acc: 0.8604\n",
      "Epoch 92/100\n",
      "7098/7098 [==============================] - 0s 9us/step - loss: 0.0612 - acc: 0.9825 - val_loss: 0.3999 - val_acc: 0.8611\n",
      "Epoch 93/100\n",
      "7098/7098 [==============================] - 0s 8us/step - loss: 0.0606 - acc: 0.9835 - val_loss: 0.4007 - val_acc: 0.8584\n",
      "Epoch 94/100\n",
      "7098/7098 [==============================] - 0s 8us/step - loss: 0.0603 - acc: 0.9837 - val_loss: 0.3973 - val_acc: 0.8604\n",
      "Epoch 95/100\n",
      "7098/7098 [==============================] - 0s 9us/step - loss: 0.0601 - acc: 0.9834 - val_loss: 0.4003 - val_acc: 0.8611\n",
      "Epoch 96/100\n",
      "7098/7098 [==============================] - 0s 8us/step - loss: 0.0591 - acc: 0.9837 - val_loss: 0.4119 - val_acc: 0.8557\n",
      "Epoch 97/100\n",
      "7098/7098 [==============================] - 0s 8us/step - loss: 0.0577 - acc: 0.9835 - val_loss: 0.4065 - val_acc: 0.8577\n",
      "Epoch 98/100\n",
      "7098/7098 [==============================] - 0s 10us/step - loss: 0.0569 - acc: 0.9838 - val_loss: 0.4130 - val_acc: 0.8618\n",
      "Epoch 99/100\n",
      "7098/7098 [==============================] - 0s 11us/step - loss: 0.0570 - acc: 0.9842 - val_loss: 0.4126 - val_acc: 0.8611\n",
      "Epoch 100/100\n",
      "7098/7098 [==============================] - 0s 13us/step - loss: 0.0547 - acc: 0.9855 - val_loss: 0.4152 - val_acc: 0.8570\n"
     ]
    },
    {
     "data": {
      "text/plain": [
       "<keras.callbacks.History at 0x11da5d1d0>"
      ]
     },
     "execution_count": 16,
     "metadata": {},
     "output_type": "execute_result"
    }
   ],
   "source": [
    "num_epochs = 100\n",
    "model = simple_model()\n",
    "print(model.summary())\n",
    "initial_loss, initial_accuracy = model.evaluate(Xf, y)\n",
    "print(\"Epoch 0: Loss \", initial_loss, \" accuracy \", initial_accuracy)\n",
    "model.fit(Xf, y, epochs=num_epochs, batch_size=128,validation_data=(val_data_f, val_bins))"
   ]
  },
  {
   "cell_type": "code",
   "execution_count": 17,
   "metadata": {},
   "outputs": [
    {
     "name": "stdout",
     "output_type": "stream",
     "text": [
      "Accuracy: 0.8775800711743772 \n",
      "\n",
      "F1: 0.8691307587664954 \n",
      "\n"
     ]
    },
    {
     "data": {
      "image/png": "[encoded data removed]",
      "text/plain": [
       "<Figure size 432x288 with 1 Axes>"
      ]
     },
     "metadata": {
      "needs_background": "light"
     },
     "output_type": "display_data"
    },
    {
     "data": {
      "image/png": "[encoded data removed]",
      "text/plain": [
       "<Figure size 432x288 with 1 Axes>"
      ]
     },
     "metadata": {
      "needs_background": "light"
     },
     "output_type": "display_data"
    },
    {
     "name": "stdout",
     "output_type": "stream",
     "text": [
      "Confusion matrix, without normalization\n",
      "[[795  86]\n",
      " [ 86 438]]\n"
     ]
    },
    {
     "data": {
      "image/png": "[encoded data removed]",
      "text/plain": [
       "<Figure size 432x288 with 2 Axes>"
      ]
     },
     "metadata": {
      "needs_background": "light"
     },
     "output_type": "display_data"
    },
    {
     "name": "stdout",
     "output_type": "stream",
     "text": [
      "All data confusion matrix\n",
      "[[0.9  0.1 ]\n",
      " [0.16 0.84]]\n"
     ]
    },
    {
     "data": {
      "image/png": "[encoded data removed]",
      "text/plain": [
       "<Figure size 432x288 with 2 Axes>"
      ]
     },
     "metadata": {
      "needs_background": "light"
     },
     "output_type": "display_data"
    }
   ],
   "source": [
    "specs = 'Single Hidden Layer'\n",
    "\n",
    "X_new = test_data_f\n",
    "y_true = test_bins\n",
    "y_pred = model.predict(X_new)\n",
    "\n",
    "y_true_labels = np.argmax(y_true, axis=1)\n",
    "y_pred_labels = np.argmax(y_pred, axis=1) \n",
    "\n",
    "print('Accuracy:', sklearn.metrics.accuracy_score(y_true_labels, y_pred_labels), '\\n')\n",
    "print('F1:', sklearn.metrics.f1_score(y_true_labels,y_pred_labels, average='macro'),'\\n')\n",
    "\n",
    "accuracy_plot(model, 'Accuracy: ' + specs)\n",
    "loss_plot(model, 'Loss: ' + specs)\n",
    "\n",
    "class_names = ['Q1', 'Q2']\n",
    "confusion_plot(y_true_labels, y_pred_labels, 'Confusion Matrix: ' + specs, class_names)"
   ]
  },
  {
   "cell_type": "code",
   "execution_count": 18,
   "metadata": {},
   "outputs": [
    {
     "data": {
      "text/plain": [
       "array([[1],\n",
       "       [1],\n",
       "       [1],\n",
       "       ...,\n",
       "       [0],\n",
       "       [0],\n",
       "       [1]])"
      ]
     },
     "execution_count": 18,
     "metadata": {},
     "output_type": "execute_result"
    }
   ],
   "source": [
    "y_pred_labels.reshape(-1,1)"
   ]
  },
  {
   "cell_type": "code",
   "execution_count": 19,
   "metadata": {},
   "outputs": [
    {
     "ename": "NameError",
     "evalue": "name 'y_preds' is not defined",
     "output_type": "error",
     "traceback": [
      "\u001b[0;31m---------------------------------------------------------------------------\u001b[0m",
      "\u001b[0;31mNameError\u001b[0m                                 Traceback (most recent call last)",
      "\u001b[0;32m<ipython-input-19-9dd5b0fac501>\u001b[0m in \u001b[0;36m<module>\u001b[0;34m\u001b[0m\n\u001b[0;32m----> 1\u001b[0;31m \u001b[0my_preds\u001b[0m\u001b[0;34m\u001b[0m\u001b[0;34m\u001b[0m\u001b[0m\n\u001b[0m",
      "\u001b[0;31mNameError\u001b[0m: name 'y_preds' is not defined"
     ]
    }
   ],
   "source": [
    "y_preds"
   ]
  },
  {
   "cell_type": "code",
   "execution_count": null,
   "metadata": {},
   "outputs": [],
   "source": [
    "# code from: https://stackoverflow.com/questions/43043271/roc-curve-for-binary-classification-in-python \n",
    "import matplotlib.pyplot as plt\n",
    "from sklearn.metrics import roc_curve, auc, roc_auc_score\n",
    "fpr = dict()\n",
    "tpr = dict()\n",
    "roc_auc = dict()\n",
    "y_preds = [y_pred[i][val] for i,val in enumerate(y_true_labels)]\n",
    "for i in range(2):\n",
    "    fpr[i], tpr[i], _ = roc_curve(y_true_labels, y_preds)\n",
    "    roc_auc[i] = auc(fpr[i], tpr[i])\n",
    "\n",
    "print('auc:',roc_auc_score(y_true_labels, y_preds))\n",
    "plt.figure()\n",
    "plt.plot(fpr[1], tpr[1])\n",
    "plt.xlim([0.0, 1.0])\n",
    "plt.ylim([0.0, 1.05])\n",
    "plt.xlabel('False Positive Rate')\n",
    "plt.ylabel('True Positive Rate')\n",
    "plt.title('Receiver operating characteristic')\n",
    "plt.show()"
   ]
  },
  {
   "cell_type": "code",
   "execution_count": null,
   "metadata": {},
   "outputs": [],
   "source": [
    "from sklearn import metrics\n",
    "\n",
    "# want to compute and plot roc \n",
    "# x axis = fpr, y axis = tpr\n",
    "tn, fp, fn, tp = metrics.confusion_matrix(y_true_labels, y_pred_labels).ravel()\n",
    "fpr = fp / (tp+fn)\n",
    "tpr = tp / (tp+fn)\n",
    "\n",
    "sns.scatterplot(fpr,tpr)"
   ]
  },
  {
   "cell_type": "code",
   "execution_count": null,
   "metadata": {},
   "outputs": [],
   "source": [
    "import numpy as np\n",
    "import matplotlib.pyplot as plt\n",
    "from sklearn import svm, datasets\n",
    "from sklearn.metrics import roc_curve, auc\n",
    "#from sklearn.cross_validation import train_test_split\n",
    "#from sklearn.preprocessing import label_binarize\n",
    "#from sklearn.multiclass import OneVsRestClassifier\n",
    "from scipy import interp\n",
    "\n",
    "fpr = dict()\n",
    "tpr = dict()\n",
    "roc_auc = dict()\n",
    "y_test = y_true_labels\n",
    "y_score = y_pred_labels\n",
    "for i in range(2):\n",
    "    fpr[i], tpr[i], _ = roc_curve(y_test, y_score)\n",
    "    roc_auc[i] = auc(fpr[i], tpr[i])\n",
    "\n",
    "# Compute micro-average ROC curve and ROC area\n",
    "fpr[\"micro\"], tpr[\"micro\"], _ = roc_curve(y.ravel(), y_score.ravel())\n",
    "roc_auc[\"micro\"] = auc(fpr[\"micro\"], tpr[\"micro\"])\n",
    "\n",
    "\n",
    "##############################################################################\n",
    "# Plot of a ROC curve for a specific class\n",
    "plt.figure()\n",
    "plt.plot(fpr[2], tpr[2], label='ROC curve (area = %0.2f)' % roc_auc[2])\n",
    "plt.plot([0, 1], [0, 1], 'k--')\n",
    "plt.xlim([0.0, 1.0])\n",
    "plt.ylim([0.0, 1.05])\n",
    "plt.xlabel('False Positive Rate')\n",
    "plt.ylabel('True Positive Rate')\n",
    "plt.title('Receiver operating characteristic example')\n",
    "plt.legend(loc=\"lower right\")\n",
    "plt.show()"
   ]
  },
  {
   "cell_type": "code",
   "execution_count": null,
   "metadata": {},
   "outputs": [],
   "source": [
    "data_dir2 = data_dir + 'Haeussler/'\n",
    "d2 = pd.read_csv(data_dir2+'fig2-crisporData_withReadFraction.tab',sep='\\t')"
   ]
  },
  {
   "cell_type": "code",
   "execution_count": null,
   "metadata": {},
   "outputs": [],
   "source": [
    "d2.head(5)"
   ]
  },
  {
   "cell_type": "code",
   "execution_count": null,
   "metadata": {},
   "outputs": [],
   "source": [
    "len(d2)"
   ]
  },
  {
   "cell_type": "code",
   "execution_count": null,
   "metadata": {},
   "outputs": [],
   "source": []
  }
 ],
 "metadata": {
  "kernelspec": {
   "display_name": "Python 3",
   "language": "python",
   "name": "python3"
  },
  "language_info": {
   "codemirror_mode": {
    "name": "ipython",
    "version": 3
   },
   "file_extension": ".py",
   "mimetype": "text/x-python",
   "name": "python",
   "nbconvert_exporter": "python",
   "pygments_lexer": "ipython3",
   "version": "3.6.7"
  }
 },
 "nbformat": 4,
 "nbformat_minor": 2
}
