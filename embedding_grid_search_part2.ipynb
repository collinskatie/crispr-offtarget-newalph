{
 "cells": [
  {
   "cell_type": "code",
   "execution_count": 1,
   "metadata": {},
   "outputs": [
    {
     "name": "stderr",
     "output_type": "stream",
     "text": [
      "Using TensorFlow backend.\n"
     ]
    }
   ],
   "source": [
    "import os\n",
    "import platform\n",
    "import random\n",
    "import shutil\n",
    "import sys\n",
    "\n",
    "import h5py\n",
    "import numpy as np\n",
    "import matplotlib.pyplot as plt\n",
    "import pandas as pd\n",
    "import seaborn as sns\n",
    "import sklearn.metrics\n",
    "import tensorflow as tf\n",
    "from tensorflow.python.saved_model import tag_constants\n",
    "from tqdm import tqdm_notebook as tqdm\n",
    "import keras \n",
    "%matplotlib inline\n",
    "random.seed(0)\n",
    "\n",
    "from vis.visualization import visualize_saliency\n",
    "from vis.utils import utils\n",
    "from keras import activations"
   ]
  },
  {
   "cell_type": "code",
   "execution_count": 2,
   "metadata": {},
   "outputs": [
    {
     "data": {
      "text/html": [
       "<div>\n",
       "<style scoped>\n",
       "    .dataframe tbody tr th:only-of-type {\n",
       "        vertical-align: middle;\n",
       "    }\n",
       "\n",
       "    .dataframe tbody tr th {\n",
       "        vertical-align: top;\n",
       "    }\n",
       "\n",
       "    .dataframe thead th {\n",
       "        text-align: right;\n",
       "    }\n",
       "</style>\n",
       "<table border=\"1\" class=\"dataframe\">\n",
       "  <thead>\n",
       "    <tr style=\"text-align: right;\">\n",
       "      <th></th>\n",
       "      <th>index</th>\n",
       "      <th>Unnamed: 0</th>\n",
       "      <th>Unnamed: 0.1</th>\n",
       "      <th>On-Target Site</th>\n",
       "      <th>Off-Target Site</th>\n",
       "      <th>Score</th>\n",
       "      <th>Encoded Seqs</th>\n",
       "    </tr>\n",
       "  </thead>\n",
       "  <tbody>\n",
       "    <tr>\n",
       "      <th>0</th>\n",
       "      <td>0</td>\n",
       "      <td>0</td>\n",
       "      <td>0</td>\n",
       "      <td>AAATGAGAAGAAGAGGCACAGGG</td>\n",
       "      <td>AAAAGAGAAGCTGAGGCACAGGG</td>\n",
       "      <td>1.0</td>\n",
       "      <td>KKKREKEKKEZREKEEPKPKEEE</td>\n",
       "    </tr>\n",
       "    <tr>\n",
       "      <th>1</th>\n",
       "      <td>1</td>\n",
       "      <td>1</td>\n",
       "      <td>1</td>\n",
       "      <td>AAATGAGAAGAAGAGGCACAGGG</td>\n",
       "      <td>AAACGAGAAGAAGAGGCATAGGG</td>\n",
       "      <td>1.0</td>\n",
       "      <td>KKKMEKEKKEKKEKEEPKMKEEE</td>\n",
       "    </tr>\n",
       "    <tr>\n",
       "      <th>2</th>\n",
       "      <td>2</td>\n",
       "      <td>2</td>\n",
       "      <td>2</td>\n",
       "      <td>AAATGAGAAGAAGAGGCACAGGG</td>\n",
       "      <td>AAACGAGAAGAAGCTGCACATGG</td>\n",
       "      <td>1.0</td>\n",
       "      <td>KKKMEKEKKEKKEZJEPKPKJEE</td>\n",
       "    </tr>\n",
       "    <tr>\n",
       "      <th>3</th>\n",
       "      <td>3</td>\n",
       "      <td>4</td>\n",
       "      <td>4</td>\n",
       "      <td>AAATGAGAAGAAGAGGCACAGGG</td>\n",
       "      <td>AAATCATATGAAGAGGCACAAGG</td>\n",
       "      <td>1.0</td>\n",
       "      <td>KKKLHKJKREKKEKEEPKPKYEE</td>\n",
       "    </tr>\n",
       "    <tr>\n",
       "      <th>4</th>\n",
       "      <td>4</td>\n",
       "      <td>5</td>\n",
       "      <td>5</td>\n",
       "      <td>AAATGAGAAGAAGAGGCACAGGG</td>\n",
       "      <td>AAATGAGAAAAATAGGCAGAGGG</td>\n",
       "      <td>1.0</td>\n",
       "      <td>KKKLEKEKKYKKJKEEPKHKEEE</td>\n",
       "    </tr>\n",
       "  </tbody>\n",
       "</table>\n",
       "</div>"
      ],
      "text/plain": [
       "   index  Unnamed: 0  Unnamed: 0.1           On-Target Site  \\\n",
       "0      0           0             0  AAATGAGAAGAAGAGGCACAGGG   \n",
       "1      1           1             1  AAATGAGAAGAAGAGGCACAGGG   \n",
       "2      2           2             2  AAATGAGAAGAAGAGGCACAGGG   \n",
       "3      3           4             4  AAATGAGAAGAAGAGGCACAGGG   \n",
       "4      4           5             5  AAATGAGAAGAAGAGGCACAGGG   \n",
       "\n",
       "           Off-Target Site  Score             Encoded Seqs  \n",
       "0  AAAAGAGAAGCTGAGGCACAGGG    1.0  KKKREKEKKEZREKEEPKPKEEE  \n",
       "1  AAACGAGAAGAAGAGGCATAGGG    1.0  KKKMEKEKKEKKEKEEPKMKEEE  \n",
       "2  AAACGAGAAGAAGCTGCACATGG    1.0  KKKMEKEKKEKKEZJEPKPKJEE  \n",
       "3  AAATCATATGAAGAGGCACAAGG    1.0  KKKLHKJKREKKEKEEPKPKYEE  \n",
       "4  AAATGAGAAAAATAGGCAGAGGG    1.0  KKKLEKEKKYKKJKEEPKHKEEE  "
      ]
     },
     "execution_count": 2,
     "metadata": {},
     "output_type": "execute_result"
    }
   ],
   "source": [
    "# read in train, val, test dfs \n",
    "data_dir = './data/'\n",
    "# diff sheets, so need to read in \n",
    "file_name = data_dir + 'processed_binary_data' \n",
    "train_df = pd.read_csv(file_name+'_train.csv', sep = ',').reset_index()\n",
    "test_df = pd.read_csv(file_name+'_test.csv', sep = ',').reset_index()\n",
    "train_df.head(5)"
   ]
  },
  {
   "cell_type": "code",
   "execution_count": 3,
   "metadata": {},
   "outputs": [
    {
     "name": "stdout",
     "output_type": "stream",
     "text": [
      "Guide length:  23\n",
      "Off-target: 23\n"
     ]
    }
   ],
   "source": [
    "# check lengths -- confirm all are same when comparing across datasets\n",
    "seq_len = len(train_df['On-Target Site'][0])\n",
    "print('Guide length: ', seq_len) # NOTE: WT seq is the reverse complement of guide \n",
    "print('Off-target:', len(train_df['Off-Target Site'][0]))"
   ]
  },
  {
   "cell_type": "code",
   "execution_count": 4,
   "metadata": {},
   "outputs": [],
   "source": [
    "from pysster.One_Hot_Encoder import One_Hot_Encoder\n",
    "\n",
    "from sklearn import preprocessing\n",
    "from sklearn.preprocessing import OneHotEncoder\n",
    "new_alph_map = {'AA': 'K', 'AT': 'R', 'AC': 'Z', 'AG': 'Y', 'TT': 'L', 'TC': 'M', 'TG':'J', \n",
    "                'CC': 'P', 'CG':'H', 'GG': 'E'}\n",
    "\n",
    "new_alph = list(new_alph_map.values())\n",
    "\n",
    "# one-hot encode\n",
    "#modified code from Luis to get correct format for TPOT w/ my alphabet\n",
    "one = One_Hot_Encoder(''.join(new_alph))\n",
    "    \n",
    "def _get_one_hot_encoding(seq):\n",
    "    one_hot_seq = one.encode(seq)                         \n",
    "    encoded_seq = np.argmax((one_hot_seq), axis=1) \n",
    "    return encoded_seq\n",
    "    #return pd.get_dummies(\n",
    "      #list(seq) + new_alph)[:-len(new_alph)].as_matrix().transpose()\n",
    "\n",
    "# now convert the data into one_hot_encoding \n",
    "input_col_name = 'Encoded Seqs'\n",
    "train_data = np.stack(\n",
    "    [_get_one_hot_encoding(s) for s in train_df[input_col_name]]).astype(np.float32)\n",
    "#val_data = np.stack(\n",
    "    #[_get_one_hot_encoding(s) for s in val_df[input_col_name]]).astype(np.float32)\n",
    "test_data = np.stack(\n",
    "    [_get_one_hot_encoding(s) for s in test_df[input_col_name]]).astype(np.float32)"
   ]
  },
  {
   "cell_type": "code",
   "execution_count": 5,
   "metadata": {},
   "outputs": [
    {
     "name": "stdout",
     "output_type": "stream",
     "text": [
      "done\n"
     ]
    }
   ],
   "source": [
    "alph_len = len(new_alph)\n",
    "\n",
    "from keras.utils import to_categorical\n",
    "\n",
    "output_bin_col_name = 'Score'; \n",
    "\n",
    "# NOTE: need one-hot encoding of the labels \n",
    "train_bins = to_categorical(np.array(train_df[output_bin_col_name].astype(np.float32)))\n",
    "#val_bins = to_categorical(np.array(val_df[output_bin_col_name].astype(np.float32)))\n",
    "test_bins = to_categorical(np.array(test_df[output_bin_col_name].astype(np.float32)))\n",
    "\n",
    "print('done')"
   ]
  },
  {
   "cell_type": "code",
   "execution_count": 8,
   "metadata": {},
   "outputs": [],
   "source": [
    "from keras.layers.core import Permute\n",
    "from keras import backend as K\n",
    "from keras.engine.topology import Layer\n",
    "import numpy as np\n",
    "import keras as keras\n",
    "from keras.callbacks import TensorBoard\n",
    "from keras import metrics as metrics\n",
    "from keras.models import Sequential, Model\n",
    "from keras.layers import Dense, Dropout, Activation, Flatten, Input, Embedding\n",
    "from keras.optimizers import SGD\n",
    "from keras.regularizers import l2\n",
    "\n",
    "def embed_model(embed_dim, hidden_layers, l2_coeff, dropout_rate):\n",
    "    X_in = Input(shape=(seq_len,),dtype='float32')\n",
    "    E = Embedding(alph_len,embed_dim,input_length=seq_len)(X_in)\n",
    "    H = Flatten()(E)\n",
    "    H = Dropout(dropout_rate)(H)\n",
    "    for h in hidden_layers: \n",
    "        H = Dense(h, activation='relu', activity_regularizer = l2(l2_coeff))(H)\n",
    "        H = Dropout(dropout_rate)(H)\n",
    "#     H = Dense(1,activation=\"sigmoid\",name='preds')(H)\n",
    "    H = Dense(2,activation=\"softmax\",name='preds')(H)\n",
    "    model = Model(inputs=[X_in], outputs=H)\n",
    "    model.compile(loss='binary_crossentropy',optimizer='adam',metrics=['acc'])#[precision,recall])#metrics=[sensitivity, specificity])\n",
    "    return model"
   ]
  },
  {
   "cell_type": "code",
   "execution_count": 9,
   "metadata": {},
   "outputs": [
    {
     "name": "stdout",
     "output_type": "stream",
     "text": [
      "Average precision-recall score: 0.8432861271328329\n",
      "AUC: 0.8033157722873879\n",
      "Accuracy: 0.9986150219670357\n",
      "F1: 0.8025252089252046\n",
      "Average precision-recall score: 0.8086375472060761\n",
      "AUC: 0.7615090522013604\n",
      "Accuracy: 0.9986241813879259\n",
      "F1: 0.7853697780845901\n",
      "Average precision-recall score: 0.8439950055674806\n",
      "AUC: 0.7945163248084377\n",
      "Accuracy: 0.9988443017656501\n",
      "F1: 0.8197106109324759\n",
      "Average precision-recall score: 0.840063649588493\n",
      "AUC: 0.6675117026068714\n",
      "Accuracy: 0.998780118686197\n",
      "F1: 0.7449053921688409\n",
      "Average precision-recall score: 0.8150005831761697\n",
      "AUC: 0.6753283526121606\n",
      "Accuracy: 0.9987342468768917\n",
      "F1: 0.7460066959100657\n",
      "Average precision-recall score: 0.8431135162913619\n",
      "AUC: 0.6710250669168442\n",
      "Accuracy: 0.9987984407246044\n",
      "F1: 0.748741395785569\n",
      "Average precision-recall score: 0.8035806486517574\n",
      "AUC: 0.5863874345549738\n",
      "Accuracy: 0.9985508176873619\n",
      "F1: 0.6469587604357264\n",
      "Average precision-recall score: 0.7878474185495741\n",
      "AUC: 0.596854044633105\n",
      "Accuracy: 0.9985783207675234\n",
      "F1: 0.6612162589364101\n",
      "Average precision-recall score: 0.8033106113915509\n",
      "AUC: 0.5999954058896494\n",
      "Accuracy: 0.9985966521440036\n",
      "F1: 0.6655876588222183\n",
      "Average precision-recall score: 0.8448812837145274\n",
      "AUC: 0.6779920949316316\n",
      "Accuracy: 0.9988351509259175\n",
      "F1: 0.7582635691492907\n",
      "Average precision-recall score: 0.823201182490971\n",
      "AUC: 0.7667446542956015\n",
      "Accuracy: 0.9986425256360868\n",
      "F1: 0.7894328099553181\n",
      "Average precision-recall score: 0.8451968022994136\n",
      "AUC: 0.7787819804484335\n",
      "Accuracy: 0.9988993350149048\n",
      "F1: 0.8190015225841496\n",
      "Average precision-recall score: 0.780669588900619\n",
      "AUC: 0.6177872649160011\n",
      "Accuracy: 0.9986333660469425\n",
      "F1: 0.6879424854515035\n",
      "Average precision-recall score: 0.8121041692921561\n",
      "AUC: 0.6020942408376964\n",
      "Accuracy: 0.9986058371397648\n",
      "F1: 0.669216308649304\n",
      "Average precision-recall score: 0.8332844652306763\n",
      "AUC: 0.6368283229321063\n",
      "Accuracy: 0.9987067186425131\n",
      "F1: 0.7119212139298914\n",
      "Average precision-recall score: 0.784334186381829\n",
      "AUC: 0.5916184425810754\n",
      "Accuracy: 0.9985599897273153\n",
      "F1: 0.6538246442954802\n",
      "Average precision-recall score: 0.7870377944653058\n",
      "AUC: 0.5890052356020943\n",
      "Accuracy: 0.9985599765193623\n",
      "F1: 0.6507507333801594\n",
      "Average precision-recall score: 0.793039362899425\n",
      "AUC: 0.5789473684210527\n",
      "Accuracy: 0.9985324466865397\n",
      "F1: 0.6359963774920392\n",
      "Average precision-recall score: 0.8333717951610775\n",
      "AUC: 0.6936391783285444\n",
      "Accuracy: 0.9987709466462436\n",
      "F1: 0.7621036862940653\n",
      "Average precision-recall score: 0.7983842471987431\n",
      "AUC: 0.6857903685799411\n",
      "Accuracy: 0.9987525911250528\n",
      "F1: 0.7550834331386912\n"
     ]
    },
    {
     "name": "stderr",
     "output_type": "stream",
     "text": [
      "/Users/kcollins/anaconda3/envs/deeptoehold/lib/python3.6/site-packages/sklearn/metrics/classification.py:1143: UndefinedMetricWarning: F-score is ill-defined and being set to 0.0 in labels with no predicted samples.\n",
      "  'precision', 'predicted', average, warn_for)\n"
     ]
    },
    {
     "name": "stdout",
     "output_type": "stream",
     "text": [
      "Average precision-recall score: 0.49999999200770684\n",
      "AUC: 0.5\n",
      "Accuracy: 0.998257280440266\n",
      "F1: 0.4995639401450473\n"
     ]
    },
    {
     "name": "stderr",
     "output_type": "stream",
     "text": [
      "/Users/kcollins/anaconda3/envs/deeptoehold/lib/python3.6/site-packages/sklearn/metrics/classification.py:1143: UndefinedMetricWarning: F-score is ill-defined and being set to 0.0 in labels with no predicted samples.\n",
      "  'precision', 'predicted', average, warn_for)\n"
     ]
    },
    {
     "name": "stdout",
     "output_type": "stream",
     "text": [
      "Average precision-recall score: 0.5\n",
      "AUC: 0.5\n",
      "Accuracy: 0.9982481403688994\n",
      "F1: 0.49956165112937945\n"
     ]
    },
    {
     "name": "stderr",
     "output_type": "stream",
     "text": [
      "/Users/kcollins/anaconda3/envs/deeptoehold/lib/python3.6/site-packages/sklearn/metrics/classification.py:1143: UndefinedMetricWarning: F-score is ill-defined and being set to 0.0 in labels with no predicted samples.\n",
      "  'precision', 'predicted', average, warn_for)\n"
     ]
    },
    {
     "name": "stdout",
     "output_type": "stream",
     "text": [
      "Average precision-recall score: 0.5\n",
      "AUC: 0.5\n",
      "Accuracy: 0.9982481243006255\n",
      "F1: 0.49956164710526435\n"
     ]
    },
    {
     "name": "stderr",
     "output_type": "stream",
     "text": [
      "/Users/kcollins/anaconda3/envs/deeptoehold/lib/python3.6/site-packages/sklearn/metrics/classification.py:1143: UndefinedMetricWarning: F-score is ill-defined and being set to 0.0 in labels with no predicted samples.\n",
      "  'precision', 'predicted', average, warn_for)\n"
     ]
    },
    {
     "name": "stdout",
     "output_type": "stream",
     "text": [
      "Average precision-recall score: 0.5\n",
      "AUC: 0.5\n",
      "Accuracy: 0.998257280440266\n",
      "F1: 0.4995639401450473\n"
     ]
    },
    {
     "name": "stderr",
     "output_type": "stream",
     "text": [
      "/Users/kcollins/anaconda3/envs/deeptoehold/lib/python3.6/site-packages/sklearn/metrics/classification.py:1143: UndefinedMetricWarning: F-score is ill-defined and being set to 0.0 in labels with no predicted samples.\n",
      "  'precision', 'predicted', average, warn_for)\n"
     ]
    },
    {
     "name": "stdout",
     "output_type": "stream",
     "text": [
      "Average precision-recall score: 0.5\n",
      "AUC: 0.5\n",
      "Accuracy: 0.9982481403688994\n",
      "F1: 0.49956165112937945\n"
     ]
    },
    {
     "name": "stderr",
     "output_type": "stream",
     "text": [
      "/Users/kcollins/anaconda3/envs/deeptoehold/lib/python3.6/site-packages/sklearn/metrics/classification.py:1143: UndefinedMetricWarning: F-score is ill-defined and being set to 0.0 in labels with no predicted samples.\n",
      "  'precision', 'predicted', average, warn_for)\n"
     ]
    },
    {
     "name": "stdout",
     "output_type": "stream",
     "text": [
      "Average precision-recall score: 0.5\n",
      "AUC: 0.5\n",
      "Accuracy: 0.9982481243006255\n",
      "F1: 0.49956164710526435\n",
      "Average precision-recall score: 0.5\n",
      "AUC: 0.5\n",
      "Accuracy: 0.998257280440266\n",
      "F1: 0.4995639401450473\n"
     ]
    },
    {
     "name": "stderr",
     "output_type": "stream",
     "text": [
      "/Users/kcollins/anaconda3/envs/deeptoehold/lib/python3.6/site-packages/sklearn/metrics/classification.py:1143: UndefinedMetricWarning: F-score is ill-defined and being set to 0.0 in labels with no predicted samples.\n",
      "  'precision', 'predicted', average, warn_for)\n"
     ]
    }
   ],
   "source": [
    "from sklearn.model_selection import StratifiedKFold\n",
    "from sklearn.metrics import roc_auc_score\n",
    "from sklearn.metrics import precision_recall_curve, average_precision_score\n",
    "import matplotlib.pyplot as plt\n",
    "from sklearn.utils.fixes import signature\n",
    "\n",
    "# fix random seed for reproducibility\n",
    "seed = 7\n",
    "np.random.seed(seed)\n",
    "# define k-fold cross validation test harness\n",
    "num_folds = 3\n",
    "num_epochs = 20\n",
    "kfold = StratifiedKFold(n_splits=num_folds, shuffle=True, random_state=seed)\n",
    "all_scores = {}\n",
    "X = train_data\n",
    "y = train_bins\n",
    "\n",
    "\n",
    "#embed_dims = [3,5]\n",
    "#hidden_layer_choices = [(50,10), (50,), (30,)]\n",
    "l2_coeffs = [0.0, 0.001, 0.01]\n",
    "dropout_rates = [0.0, 0.2, 0.4]\n",
    "\n",
    "for l2_coeff in l2_coeffs: \n",
    "    for dropout_rate in dropout_rates: \n",
    "        param_combo = (l2_coeff, dropout_rate)\n",
    "        cvscores = []\n",
    "        for train, test in kfold.split(X, y.argmax(1)):\n",
    "          # create model\n",
    "            model = embed_model(embed_dim=5, hidden_layers=(50,), l2_coeff = l2_coeff, dropout_rate = dropout_rate)\n",
    "            #early_stopping = keras.callbacks.EarlyStopping(monitor='val_loss', min_delta=0.005, patience=10, verbose=0, mode='auto', baseline=None)\n",
    "            model.fit(X[train], y[train],epochs=num_epochs, batch_size=128,verbose=0)#,callbacks=[early_stopping])\n",
    "            # evaluate the model\n",
    "\n",
    "            y_pred = model.predict(X[test])\n",
    "            y_true = y[test]\n",
    "\n",
    "            y_true_labels = np.argmax(y[test], axis=1)\n",
    "            y_pred_labels = np.argmax(y_pred, axis=1) \n",
    "\n",
    "            average_precision = average_precision_score(y_true, y_pred)\n",
    "            auc = roc_auc_score(y_true_labels, y_pred_labels)\n",
    "            acc = sklearn.metrics.accuracy_score(y_true_labels, y_pred_labels)\n",
    "            f1_val = sklearn.metrics.f1_score(y_true_labels,y_pred_labels, average='macro')\n",
    "            print('Average precision-recall score:', average_precision)\n",
    "            print('AUC:', auc)\n",
    "            print('Accuracy:', acc)\n",
    "            print('F1:', f1_val)\n",
    "            cvscores.append([average_precision, auc, acc, f1_val])\n",
    "        all_scores[param_combo] = cvscores\n"
   ]
  },
  {
   "cell_type": "code",
   "execution_count": 11,
   "metadata": {},
   "outputs": [],
   "source": [
    "d = pd.DataFrame.from_dict(all_scores)\n",
    "d.to_csv('embed_grid_search_all_part2.csv')"
   ]
  },
  {
   "cell_type": "code",
   "execution_count": 12,
   "metadata": {},
   "outputs": [],
   "source": [
    "cv_means = {k:sum(np.array(v)/num_folds) for k,v in all_scores.items()}"
   ]
  },
  {
   "cell_type": "code",
   "execution_count": 13,
   "metadata": {},
   "outputs": [
    {
     "data": {
      "text/plain": [
       "{(0.0, 0.0): array([0.83197289, 0.78644705, 0.9986945 , 0.8025352 ]),\n",
       " (0.0, 0.2): array([0.83272592, 0.67128837, 0.99877094, 0.74655116]),\n",
       " (0.0, 0.4): array([0.79824623, 0.5944123 , 0.99857526, 0.65792089]),\n",
       " (0.001, 0.0): array([0.83775976, 0.74117291, 0.99879234, 0.7888993 ]),\n",
       " (0.001, 0.2): array([0.80868607, 0.61890328, 0.99864864, 0.68969334]),\n",
       " (0.001, 0.4): array([0.78813711, 0.58652368, 0.9985508 , 0.64685725]),\n",
       " (0.01, 0.0): array([0.71058534, 0.62647652, 0.99859361, 0.67225035]),\n",
       " (0.01, 0.2): array([0.5       , 0.5       , 0.99825118, 0.49956241]),\n",
       " (0.01, 0.4): array([0.5       , 0.5       , 0.99825118, 0.49956241])}"
      ]
     },
     "execution_count": 13,
     "metadata": {},
     "output_type": "execute_result"
    }
   ],
   "source": [
    "cv_means"
   ]
  },
  {
   "cell_type": "code",
   "execution_count": 14,
   "metadata": {},
   "outputs": [
    {
     "data": {
      "text/plain": [
       "<BarContainer object of 9 artists>"
      ]
     },
     "execution_count": 14,
     "metadata": {},
     "output_type": "execute_result"
    },
    {
     "data": {
      "image/png": "[encoded data removed]",
      "text/plain": [
       "<Figure size 432x288 with 1 Axes>"
      ]
     },
     "metadata": {
      "needs_background": "light"
     },
     "output_type": "display_data"
    }
   ],
   "source": [
    "cv_means_df = pd.DataFrame.from_dict(cv_means)\n",
    "param_combos = list(cv_means.keys())\n",
    "score_vals = [cv_means[k][0] for k in param_combos]\n",
    "plt.bar(range(len(param_combos)),score_vals)"
   ]
  },
  {
   "cell_type": "code",
   "execution_count": 17,
   "metadata": {},
   "outputs": [
    {
     "data": {
      "text/plain": [
       "<matplotlib.axes._subplots.AxesSubplot at 0x1c3b362748>"
      ]
     },
     "execution_count": 17,
     "metadata": {},
     "output_type": "execute_result"
    },
    {
     "data": {
      "image/png": "[encoded data removed]",
      "text/plain": [
       "<Figure size 1440x720 with 1 Axes>"
      ]
     },
     "metadata": {
      "needs_background": "light"
     },
     "output_type": "display_data"
    }
   ],
   "source": [
    "prec_recall_scores = []\n",
    "for params in param_combos:\n",
    "    folds = all_scores[params]\n",
    "    prec_recall_scores.append([fold[0] for fold in folds])\n",
    "param_combos_str = [str(params) for params in param_combos]\n",
    "plt.figure(figsize=(20,10))\n",
    "sns.boxplot(param_combos_str, prec_recall_scores)"
   ]
  },
  {
   "cell_type": "code",
   "execution_count": null,
   "metadata": {},
   "outputs": [],
   "source": [
    "# best => embed_dim = 5, hidden_layers = (50,), l2 = 0.001, dropout_rate = 0.0 \n",
    "# plot above shows the big impact of l2 regularizer; especially coupled w/ dropout rate (though that is less impact)"
   ]
  }
 ],
 "metadata": {
  "kernelspec": {
   "display_name": "Python 3",
   "language": "python",
   "name": "python3"
  },
  "language_info": {
   "codemirror_mode": {
    "name": "ipython",
    "version": 3
   },
   "file_extension": ".py",
   "mimetype": "text/x-python",
   "name": "python",
   "nbconvert_exporter": "python",
   "pygments_lexer": "ipython3",
   "version": "3.6.7"
  }
 },
 "nbformat": 4,
 "nbformat_minor": 2
}
