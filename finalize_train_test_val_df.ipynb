{
 "cells": [
  {
   "cell_type": "code",
   "execution_count": 10,
   "metadata": {},
   "outputs": [],
   "source": [
    "# purpose of this file is to finalize the train, test, and validation splits of the data\n",
    "# save each as a .csv so we can compare across models\n",
    "import os\n",
    "import platform\n",
    "import random\n",
    "import shutil\n",
    "import sys\n",
    "\n",
    "import h5py\n",
    "import numpy as np\n",
    "import matplotlib.pyplot as plt\n",
    "import pandas as pd\n",
    "import seaborn as sns\n",
    "import sklearn.metrics\n",
    "import tensorflow as tf\n",
    "from tensorflow.python.saved_model import tag_constants\n",
    "from tqdm import tqdm_notebook as tqdm\n",
    "import keras \n",
    "%matplotlib inline\n",
    "random.seed(0)"
   ]
  },
  {
   "cell_type": "code",
   "execution_count": 11,
   "metadata": {},
   "outputs": [
    {
     "data": {
      "text/html": [
       "<div>\n",
       "<style scoped>\n",
       "    .dataframe tbody tr th:only-of-type {\n",
       "        vertical-align: middle;\n",
       "    }\n",
       "\n",
       "    .dataframe tbody tr th {\n",
       "        vertical-align: top;\n",
       "    }\n",
       "\n",
       "    .dataframe thead th {\n",
       "        text-align: right;\n",
       "    }\n",
       "</style>\n",
       "<table border=\"1\" class=\"dataframe\">\n",
       "  <thead>\n",
       "    <tr style=\"text-align: right;\">\n",
       "      <th></th>\n",
       "      <th>Unnamed: 0</th>\n",
       "      <th>On-Target Site</th>\n",
       "      <th>Off-Target Site</th>\n",
       "      <th>Score</th>\n",
       "      <th>Encoded Seqs</th>\n",
       "    </tr>\n",
       "  </thead>\n",
       "  <tbody>\n",
       "    <tr>\n",
       "      <th>0</th>\n",
       "      <td>0</td>\n",
       "      <td>AAATGAGAAGAAGAGGCACAGGG</td>\n",
       "      <td>AAAAGAGAAGCTGAGGCACAGGG</td>\n",
       "      <td>1.0</td>\n",
       "      <td>KKKREKEKKEZREKEEPKPKEEE</td>\n",
       "    </tr>\n",
       "    <tr>\n",
       "      <th>1</th>\n",
       "      <td>1</td>\n",
       "      <td>AAATGAGAAGAAGAGGCACAGGG</td>\n",
       "      <td>AAACGAGAAGAAGAGGCATAGGG</td>\n",
       "      <td>1.0</td>\n",
       "      <td>KKKMEKEKKEKKEKEEPKMKEEE</td>\n",
       "    </tr>\n",
       "    <tr>\n",
       "      <th>2</th>\n",
       "      <td>2</td>\n",
       "      <td>AAATGAGAAGAAGAGGCACAGGG</td>\n",
       "      <td>AAACGAGAAGAAGCTGCACATGG</td>\n",
       "      <td>1.0</td>\n",
       "      <td>KKKMEKEKKEKKEZJEPKPKJEE</td>\n",
       "    </tr>\n",
       "    <tr>\n",
       "      <th>3</th>\n",
       "      <td>3</td>\n",
       "      <td>AAATGAGAAGAAGAGGCACAGGG</td>\n",
       "      <td>AAAGGAGAAGGAGAGGCAGATGG</td>\n",
       "      <td>1.0</td>\n",
       "      <td>KKKJEKEKKEYKEKEEPKHKJEE</td>\n",
       "    </tr>\n",
       "    <tr>\n",
       "      <th>4</th>\n",
       "      <td>4</td>\n",
       "      <td>AAATGAGAAGAAGAGGCACAGGG</td>\n",
       "      <td>AAATCATATGAAGAGGCACAAGG</td>\n",
       "      <td>1.0</td>\n",
       "      <td>KKKLHKJKREKKEKEEPKPKYEE</td>\n",
       "    </tr>\n",
       "  </tbody>\n",
       "</table>\n",
       "</div>"
      ],
      "text/plain": [
       "   Unnamed: 0           On-Target Site          Off-Target Site  Score  \\\n",
       "0           0  AAATGAGAAGAAGAGGCACAGGG  AAAAGAGAAGCTGAGGCACAGGG    1.0   \n",
       "1           1  AAATGAGAAGAAGAGGCACAGGG  AAACGAGAAGAAGAGGCATAGGG    1.0   \n",
       "2           2  AAATGAGAAGAAGAGGCACAGGG  AAACGAGAAGAAGCTGCACATGG    1.0   \n",
       "3           3  AAATGAGAAGAAGAGGCACAGGG  AAAGGAGAAGGAGAGGCAGATGG    1.0   \n",
       "4           4  AAATGAGAAGAAGAGGCACAGGG  AAATCATATGAAGAGGCACAAGG    1.0   \n",
       "\n",
       "              Encoded Seqs  \n",
       "0  KKKREKEKKEZREKEEPKPKEEE  \n",
       "1  KKKMEKEKKEKKEKEEPKMKEEE  \n",
       "2  KKKMEKEKKEKKEZJEPKPKJEE  \n",
       "3  KKKJEKEKKEYKEKEEPKHKJEE  \n",
       "4  KKKLHKJKREKKEKEEPKPKYEE  "
      ]
     },
     "execution_count": 11,
     "metadata": {},
     "output_type": "execute_result"
    }
   ],
   "source": [
    "data_dir = './data/'\n",
    "# diff sheets, so need to read in \n",
    "file_name = data_dir + 'processed_binary_data'\n",
    "df = pd.read_csv(file_name + '.csv', sep = ',')\n",
    "df.head(5)"
   ]
  },
  {
   "cell_type": "code",
   "execution_count": 12,
   "metadata": {},
   "outputs": [],
   "source": [
    "TRAIN_PCT = 0.8\n",
    "\n",
    "# dividing data into training and testing \n",
    "msk = np.random.rand(len(df)) < TRAIN_PCT\n",
    "# initial split\n",
    "train_df = df[msk]\n",
    "test_df = df[~msk]\n",
    "\n",
    "# # now divide the remaining test data\n",
    "# # one for ensuring we don't overfit; the other, held out until end \n",
    "# msk = np.random.rand(len(test_df)) < 0.5 # 50% of untrained data is final test data\n",
    "# val_df = test_df[msk]\n",
    "# test_df = test_df[~msk]\n",
    "\n",
    "train_df.to_csv(file_name+'_train.csv')\n",
    "#val_df.to_csv(file_name+'_val.csv')\n",
    "test_df.to_csv(file_name+'_test.csv')"
   ]
  },
  {
   "cell_type": "code",
   "execution_count": 13,
   "metadata": {},
   "outputs": [
    {
     "name": "stdout",
     "output_type": "stream",
     "text": [
      "num positive (train): 572\n",
      "num positive (test): 170\n"
     ]
    }
   ],
   "source": [
    "# look at class balance ...\n",
    "print('num positive (train):', int(sum(train_df['Score'])))\n",
    "#print('num positive (val):', int(sum(val_df['Score'])))\n",
    "print('num positive (test):', int(sum(test_df['Score'])))\n"
   ]
  },
  {
   "cell_type": "code",
   "execution_count": null,
   "metadata": {},
   "outputs": [],
   "source": []
  }
 ],
 "metadata": {
  "kernelspec": {
   "display_name": "Python 3",
   "language": "python",
   "name": "python3"
  },
  "language_info": {
   "codemirror_mode": {
    "name": "ipython",
    "version": 3
   },
   "file_extension": ".py",
   "mimetype": "text/x-python",
   "name": "python",
   "nbconvert_exporter": "python",
   "pygments_lexer": "ipython3",
   "version": "3.6.7"
  }
 },
 "nbformat": 4,
 "nbformat_minor": 2
}
