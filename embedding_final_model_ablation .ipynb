{
 "cells": [
  {
   "cell_type": "code",
   "execution_count": 1,
   "metadata": {},
   "outputs": [
    {
     "name": "stderr",
     "output_type": "stream",
     "text": [
      "Using TensorFlow backend.\n"
     ]
    }
   ],
   "source": [
    "import os\n",
    "import platform\n",
    "import random\n",
    "import shutil\n",
    "import sys\n",
    "\n",
    "import h5py\n",
    "import numpy as np\n",
    "import matplotlib.pyplot as plt\n",
    "import pandas as pd\n",
    "import seaborn as sns\n",
    "import sklearn.metrics\n",
    "import tensorflow as tf\n",
    "from tensorflow.python.saved_model import tag_constants\n",
    "from tqdm import tqdm_notebook as tqdm\n",
    "import keras \n",
    "%matplotlib inline\n",
    "random.seed(0)\n",
    "\n",
    "from vis.visualization import visualize_saliency\n",
    "from vis.utils import utils\n",
    "from keras import activations"
   ]
  },
  {
   "cell_type": "code",
   "execution_count": 2,
   "metadata": {},
   "outputs": [],
   "source": [
    "def accuracy_plot(model, title): \n",
    "    plt.plot(model.history.history['acc'])\n",
    "    plt.plot(model.history.history['val_acc'])\n",
    "    plt.title(title)\n",
    "    plt.ylabel('Accuracy')\n",
    "    plt.xlabel('Epoch')\n",
    "    plt.legend(['Train', 'Test'], loc='upper left')\n",
    "    plt.show()\n",
    "\n",
    "def loss_plot(model, title): \n",
    "    plt.plot(model.history.history['loss'])\n",
    "    plt.plot(model.history.history['val_loss'])\n",
    "    plt.title(title)\n",
    "    plt.ylabel('Loss')\n",
    "    plt.xlabel('Epoch')\n",
    "    plt.legend(['Train', 'Test'], loc='upper left')\n",
    "    plt.show()\n",
    "    \n",
    "# plotting\n",
    "\n",
    "import itertools\n",
    "import numpy as np\n",
    "import matplotlib.pyplot as plt\n",
    "\n",
    "from sklearn import svm, datasets\n",
    "from sklearn.model_selection import train_test_split\n",
    "from sklearn.metrics import confusion_matrix\n",
    "from sklearn import metrics\n",
    "\n",
    "def confusion_plot(y_true_labels, y_pred_labels, title, class_names): \n",
    "\n",
    "    def plot_confusion_matrix(cm, classes,\n",
    "                              normalize=False,\n",
    "                              title='Confusion matrix',\n",
    "                              cmap=plt.cm.Blues):\n",
    "        \"\"\"\n",
    "        This function prints and plots the confusion matrix.\n",
    "        Normalization can be applied by setting `normalize=True`.\n",
    "        \"\"\"\n",
    "        if normalize:\n",
    "            cm = cm.astype('float') / cm.sum(axis=1)[:, np.newaxis]\n",
    "            print(\"All data confusion matrix\")\n",
    "        else:\n",
    "            print('Confusion matrix, without normalization')\n",
    "\n",
    "        print(cm)\n",
    "\n",
    "        plt.imshow(cm, interpolation='nearest', cmap=cmap)\n",
    "        plt.title(title)\n",
    "        plt.colorbar()\n",
    "        tick_marks = np.arange(len(classes))\n",
    "        plt.xticks(tick_marks, classes, rotation=45)\n",
    "        plt.yticks(tick_marks, classes)\n",
    "\n",
    "        fmt = '.2f' if normalize else 'd'\n",
    "        thresh = cm.max() / 2.\n",
    "        for i, j in itertools.product(range(cm.shape[0]), range(cm.shape[1])):\n",
    "            plt.text(j, i, format(cm[i, j], fmt),\n",
    "                     horizontalalignment=\"center\",\n",
    "                     color=\"white\" if cm[i, j] > thresh else \"black\")\n",
    "\n",
    "        plt.tight_layout()\n",
    "        plt.ylabel('True label')\n",
    "        plt.xlabel('Predicted label')\n",
    "\n",
    "    # Compute confusion matrix\n",
    "    cnf_matrix = confusion_matrix(y_true_labels, y_pred_labels)\n",
    "    np.set_printoptions(precision=2)\n",
    "\n",
    "    # Plot non-normalized confusion matrix\n",
    "    plt.figure()\n",
    "    plot_confusion_matrix(cnf_matrix, classes=class_names, normalize=False,\n",
    "                          title=title)\n",
    "\n",
    "    plt.show()\n",
    "    \n",
    "    # Plot normalized confusion matrix\n",
    "    plt.figure()\n",
    "    plot_confusion_matrix(cnf_matrix, classes=class_names, normalize=True,\n",
    "                          title=title)\n",
    "\n",
    "    plt.show()"
   ]
  },
  {
   "cell_type": "code",
   "execution_count": 3,
   "metadata": {},
   "outputs": [
    {
     "data": {
      "text/html": [
       "<div>\n",
       "<style scoped>\n",
       "    .dataframe tbody tr th:only-of-type {\n",
       "        vertical-align: middle;\n",
       "    }\n",
       "\n",
       "    .dataframe tbody tr th {\n",
       "        vertical-align: top;\n",
       "    }\n",
       "\n",
       "    .dataframe thead th {\n",
       "        text-align: right;\n",
       "    }\n",
       "</style>\n",
       "<table border=\"1\" class=\"dataframe\">\n",
       "  <thead>\n",
       "    <tr style=\"text-align: right;\">\n",
       "      <th></th>\n",
       "      <th>index</th>\n",
       "      <th>Unnamed: 0</th>\n",
       "      <th>Unnamed: 0.1</th>\n",
       "      <th>On-Target Site</th>\n",
       "      <th>Off-Target Site</th>\n",
       "      <th>Score</th>\n",
       "      <th>Encoded Seqs</th>\n",
       "    </tr>\n",
       "  </thead>\n",
       "  <tbody>\n",
       "    <tr>\n",
       "      <th>0</th>\n",
       "      <td>0</td>\n",
       "      <td>0</td>\n",
       "      <td>0</td>\n",
       "      <td>AAATGAGAAGAAGAGGCACAGGG</td>\n",
       "      <td>AAAAGAGAAGCTGAGGCACAGGG</td>\n",
       "      <td>1.0</td>\n",
       "      <td>KKKREKEKKEZREKEEPKPKEEE</td>\n",
       "    </tr>\n",
       "    <tr>\n",
       "      <th>1</th>\n",
       "      <td>1</td>\n",
       "      <td>1</td>\n",
       "      <td>1</td>\n",
       "      <td>AAATGAGAAGAAGAGGCACAGGG</td>\n",
       "      <td>AAACGAGAAGAAGAGGCATAGGG</td>\n",
       "      <td>1.0</td>\n",
       "      <td>KKKMEKEKKEKKEKEEPKMKEEE</td>\n",
       "    </tr>\n",
       "    <tr>\n",
       "      <th>2</th>\n",
       "      <td>2</td>\n",
       "      <td>2</td>\n",
       "      <td>2</td>\n",
       "      <td>AAATGAGAAGAAGAGGCACAGGG</td>\n",
       "      <td>AAACGAGAAGAAGCTGCACATGG</td>\n",
       "      <td>1.0</td>\n",
       "      <td>KKKMEKEKKEKKEZJEPKPKJEE</td>\n",
       "    </tr>\n",
       "    <tr>\n",
       "      <th>3</th>\n",
       "      <td>3</td>\n",
       "      <td>4</td>\n",
       "      <td>4</td>\n",
       "      <td>AAATGAGAAGAAGAGGCACAGGG</td>\n",
       "      <td>AAATCATATGAAGAGGCACAAGG</td>\n",
       "      <td>1.0</td>\n",
       "      <td>KKKLHKJKREKKEKEEPKPKYEE</td>\n",
       "    </tr>\n",
       "    <tr>\n",
       "      <th>4</th>\n",
       "      <td>4</td>\n",
       "      <td>5</td>\n",
       "      <td>5</td>\n",
       "      <td>AAATGAGAAGAAGAGGCACAGGG</td>\n",
       "      <td>AAATGAGAAAAATAGGCAGAGGG</td>\n",
       "      <td>1.0</td>\n",
       "      <td>KKKLEKEKKYKKJKEEPKHKEEE</td>\n",
       "    </tr>\n",
       "  </tbody>\n",
       "</table>\n",
       "</div>"
      ],
      "text/plain": [
       "   index  Unnamed: 0  Unnamed: 0.1           On-Target Site  \\\n",
       "0      0           0             0  AAATGAGAAGAAGAGGCACAGGG   \n",
       "1      1           1             1  AAATGAGAAGAAGAGGCACAGGG   \n",
       "2      2           2             2  AAATGAGAAGAAGAGGCACAGGG   \n",
       "3      3           4             4  AAATGAGAAGAAGAGGCACAGGG   \n",
       "4      4           5             5  AAATGAGAAGAAGAGGCACAGGG   \n",
       "\n",
       "           Off-Target Site  Score             Encoded Seqs  \n",
       "0  AAAAGAGAAGCTGAGGCACAGGG    1.0  KKKREKEKKEZREKEEPKPKEEE  \n",
       "1  AAACGAGAAGAAGAGGCATAGGG    1.0  KKKMEKEKKEKKEKEEPKMKEEE  \n",
       "2  AAACGAGAAGAAGCTGCACATGG    1.0  KKKMEKEKKEKKEZJEPKPKJEE  \n",
       "3  AAATCATATGAAGAGGCACAAGG    1.0  KKKLHKJKREKKEKEEPKPKYEE  \n",
       "4  AAATGAGAAAAATAGGCAGAGGG    1.0  KKKLEKEKKYKKJKEEPKHKEEE  "
      ]
     },
     "execution_count": 3,
     "metadata": {},
     "output_type": "execute_result"
    }
   ],
   "source": [
    "# read in train, val, test dfs \n",
    "data_dir = './data/'\n",
    "# diff sheets, so need to read in \n",
    "file_name = data_dir + 'processed_binary_data' \n",
    "train_df = pd.read_csv(file_name+'_train.csv', sep = ',').reset_index()\n",
    "test_df = pd.read_csv(file_name+'_test.csv', sep = ',').reset_index()\n",
    "train_df.head(5)"
   ]
  },
  {
   "cell_type": "code",
   "execution_count": 4,
   "metadata": {},
   "outputs": [
    {
     "name": "stdout",
     "output_type": "stream",
     "text": [
      "Guide length:  23\n",
      "Off-target: 23\n"
     ]
    }
   ],
   "source": [
    "# check lengths -- confirm all are same when comparing across datasets\n",
    "seq_len = len(train_df['On-Target Site'][0])\n",
    "print('Guide length: ', seq_len) # NOTE: WT seq is the reverse complement of guide \n",
    "print('Off-target:', len(train_df['Off-Target Site'][0]))"
   ]
  },
  {
   "cell_type": "code",
   "execution_count": 5,
   "metadata": {},
   "outputs": [],
   "source": [
    "from pysster.One_Hot_Encoder import One_Hot_Encoder\n",
    "\n",
    "from sklearn import preprocessing\n",
    "from sklearn.preprocessing import OneHotEncoder\n",
    "new_alph_map = {'AA': 'K', 'AT': 'R', 'AC': 'Z', 'AG': 'Y', 'TT': 'L', 'TC': 'M', 'TG':'J', \n",
    "                'CC': 'P', 'CG':'H', 'GG': 'E'}\n",
    "\n",
    "new_alph = list(new_alph_map.values())\n",
    "\n",
    "# one-hot encode\n",
    "#modified code from Luis to get correct format for TPOT w/ my alphabet\n",
    "one = One_Hot_Encoder(''.join(new_alph))\n",
    "    \n",
    "def _get_one_hot_encoding(seq):\n",
    "    one_hot_seq = one.encode(seq)                         \n",
    "    encoded_seq = np.argmax((one_hot_seq), axis=1) \n",
    "    return encoded_seq\n",
    "    #return pd.get_dummies(\n",
    "      #list(seq) + new_alph)[:-len(new_alph)].as_matrix().transpose()\n",
    "\n",
    "# now convert the data into one_hot_encoding \n",
    "input_col_name = 'Encoded Seqs'\n",
    "train_data = np.stack(\n",
    "    [_get_one_hot_encoding(s) for s in train_df[input_col_name]]).astype(np.float32)\n",
    "#val_data = np.stack(\n",
    "    #[_get_one_hot_encoding(s) for s in val_df[input_col_name]]).astype(np.float32)\n",
    "test_data = np.stack(\n",
    "    [_get_one_hot_encoding(s) for s in test_df[input_col_name]]).astype(np.float32)"
   ]
  },
  {
   "cell_type": "code",
   "execution_count": 6,
   "metadata": {},
   "outputs": [
    {
     "name": "stdout",
     "output_type": "stream",
     "text": [
      "done\n"
     ]
    }
   ],
   "source": [
    "alph_len = len(new_alph)\n",
    "\n",
    "from keras.utils import to_categorical\n",
    "\n",
    "output_bin_col_name = 'Score'; \n",
    "\n",
    "# NOTE: need one-hot encoding of the labels \n",
    "train_bins = to_categorical(np.array(train_df[output_bin_col_name].astype(np.float32)))\n",
    "#val_bins = to_categorical(np.array(val_df[output_bin_col_name].astype(np.float32)))\n",
    "test_bins = to_categorical(np.array(test_df[output_bin_col_name].astype(np.float32)))\n",
    "\n",
    "print('done')"
   ]
  },
  {
   "cell_type": "code",
   "execution_count": 7,
   "metadata": {},
   "outputs": [],
   "source": [
    "from keras.layers.core import Permute\n",
    "from keras import backend as K\n",
    "from keras.engine.topology import Layer\n",
    "import numpy as np\n",
    "import keras as keras\n",
    "from keras.callbacks import TensorBoard\n",
    "from keras import metrics as metrics\n",
    "from keras.models import Sequential, Model\n",
    "from keras.layers import Dense, Dropout, Activation, Flatten, Input, Embedding\n",
    "from keras.optimizers import SGD\n",
    "from keras.regularizers import l2\n",
    "\n",
    "def embed_model_ablate(embed_dim, hidden_layers, l2_coeff, dropout_rate):\n",
    "    X_in = Input(shape=(seq_len,),dtype='float32')\n",
    "    E = Embedding(alph_len,embed_dim,input_length=seq_len)(X_in)\n",
    "    H = Flatten()(E)\n",
    "#     H = Dropout(dropout_rate)(H)\n",
    "#     for h in hidden_layers: \n",
    "#         H = Dense(h, activation='relu', activity_regularizer = l2(l2_coeff))(H)\n",
    "#         H = Dropout(dropout_rate)(H)\n",
    "    H = Dense(2,activation=\"softmax\",name='preds')(H)\n",
    "    model = Model(inputs=[X_in], outputs=H)\n",
    "    model.compile(loss='binary_crossentropy',optimizer='adam',metrics=['acc'])#[precision,recall])#metrics=[sensitivity, specificity])\n",
    "    return model"
   ]
  },
  {
   "cell_type": "code",
   "execution_count": 8,
   "metadata": {},
   "outputs": [
    {
     "name": "stdout",
     "output_type": "stream",
     "text": [
      "327078/327078 [==============================] - 2s 6us/step\n",
      "Epoch 0: Loss  0.6987893799210717  accuracy  0.42277071524241805\n",
      "Epoch 1/20\n",
      "327078/327078 [==============================] - 2s 5us/step - loss: 0.0272 - acc: 0.9969\n",
      "Epoch 2/20\n",
      "327078/327078 [==============================] - 2s 5us/step - loss: 0.0092 - acc: 0.9983\n",
      "Epoch 3/20\n",
      "327078/327078 [==============================] - 2s 5us/step - loss: 0.0051 - acc: 0.9986\n",
      "Epoch 4/20\n",
      "327078/327078 [==============================] - 2s 5us/step - loss: 0.0044 - acc: 0.9987\n",
      "Epoch 5/20\n",
      "327078/327078 [==============================] - 2s 5us/step - loss: 0.0043 - acc: 0.9987\n",
      "Epoch 6/20\n",
      "327078/327078 [==============================] - 2s 5us/step - loss: 0.0042 - acc: 0.9987\n",
      "Epoch 7/20\n",
      "327078/327078 [==============================] - 2s 5us/step - loss: 0.0041 - acc: 0.9988\n",
      "Epoch 8/20\n",
      "327078/327078 [==============================] - 2s 5us/step - loss: 0.0040 - acc: 0.9988\n",
      "Epoch 9/20\n",
      "327078/327078 [==============================] - 2s 5us/step - loss: 0.0039 - acc: 0.9988\n",
      "Epoch 10/20\n",
      "327078/327078 [==============================] - 2s 5us/step - loss: 0.0039 - acc: 0.9988\n",
      "Epoch 11/20\n",
      "327078/327078 [==============================] - 2s 5us/step - loss: 0.0039 - acc: 0.9988\n",
      "Epoch 12/20\n",
      "327078/327078 [==============================] - 2s 5us/step - loss: 0.0038 - acc: 0.9988\n",
      "Epoch 13/20\n",
      "327078/327078 [==============================] - 2s 5us/step - loss: 0.0038 - acc: 0.9988\n",
      "Epoch 14/20\n",
      "327078/327078 [==============================] - 2s 5us/step - loss: 0.0038 - acc: 0.9989\n",
      "Epoch 15/20\n",
      "327078/327078 [==============================] - 2s 5us/step - loss: 0.0038 - acc: 0.9988\n",
      "Epoch 16/20\n",
      "327078/327078 [==============================] - 2s 6us/step - loss: 0.0037 - acc: 0.9988\n",
      "Epoch 17/20\n",
      "327078/327078 [==============================] - 2s 5us/step - loss: 0.0037 - acc: 0.9988\n",
      "Epoch 18/20\n",
      "327078/327078 [==============================] - 2s 5us/step - loss: 0.0037 - acc: 0.9988\n",
      "Epoch 19/20\n",
      "327078/327078 [==============================] - 2s 5us/step - loss: 0.0037 - acc: 0.9989\n",
      "Epoch 20/20\n",
      "327078/327078 [==============================] - 2s 5us/step - loss: 0.0037 - acc: 0.9988\n"
     ]
    },
    {
     "data": {
      "text/plain": [
       "<keras.callbacks.History at 0x13586ecc0>"
      ]
     },
     "execution_count": 8,
     "metadata": {},
     "output_type": "execute_result"
    }
   ],
   "source": [
    "model = embed_model_ablate(embed_dim=5, hidden_layers=(50,), l2_coeff = 0.0, dropout_rate = 0.0)\n",
    "\n",
    "X = train_data\n",
    "y = train_bins\n",
    "num_epochs = 20\n",
    "#early_stopping = keras.callbacks.EarlyStopping(monitor='val_loss', min_delta=0.005, patience=10, verbose=0, mode='auto', baseline=None)\n",
    "initial_loss, initial_accuracy = model.evaluate(X, y)\n",
    "print(\"Epoch 0: Loss \", initial_loss, \" accuracy \", initial_accuracy)\n",
    "model.fit(X, y, epochs=num_epochs, batch_size=128)#,validation_data=(val_data, val_bins))#,callbacks=[early_stopping])"
   ]
  },
  {
   "cell_type": "code",
   "execution_count": 9,
   "metadata": {},
   "outputs": [
    {
     "name": "stdout",
     "output_type": "stream",
     "text": [
      "AUC: 0.7203497148547507\n",
      "Accuracy: 0.9983643376788243 \n",
      "\n",
      "F1: 0.7636748814522705 \n",
      "\n",
      "Confusion matrix, without normalization\n",
      "[[81715    39]\n",
      " [   95    75]]\n"
     ]
    },
    {
     "data": {
      "image/png": "[encoded data removed]",
      "text/plain": [
       "<Figure size 432x288 with 2 Axes>"
      ]
     },
     "metadata": {
      "needs_background": "light"
     },
     "output_type": "display_data"
    },
    {
     "name": "stdout",
     "output_type": "stream",
     "text": [
      "All data confusion matrix\n",
      "[[1.00e+00 4.77e-04]\n",
      " [5.59e-01 4.41e-01]]\n"
     ]
    },
    {
     "data": {
      "image/png": "[encoded data removed]",
      "text/plain": [
       "<Figure size 432x288 with 2 Axes>"
      ]
     },
     "metadata": {
      "needs_background": "light"
     },
     "output_type": "display_data"
    },
    {
     "name": "stdout",
     "output_type": "stream",
     "text": [
      "Average precision-recall score: 0.82\n"
     ]
    },
    {
     "data": {
      "text/plain": [
       "Text(0.5, 1.0, '2-class Precision-Recall curve: AP=0.82')"
      ]
     },
     "execution_count": 9,
     "metadata": {},
     "output_type": "execute_result"
    },
    {
     "data": {
      "image/png": "[encoded data removed]",
      "text/plain": [
       "<Figure size 432x288 with 1 Axes>"
      ]
     },
     "metadata": {
      "needs_background": "light"
     },
     "output_type": "display_data"
    }
   ],
   "source": [
    "specs = 'Remove Hidden Layer Nonlinearities'\n",
    "\n",
    "X_new = test_data\n",
    "y_true = test_bins\n",
    "y_pred = model.predict(X_new)\n",
    "\n",
    "y_true_labels = np.argmax(y_true, axis=1)\n",
    "y_pred_labels = np.argmax(y_pred, axis=1) \n",
    "from sklearn.metrics import roc_auc_score\n",
    "\n",
    "print('AUC:', roc_auc_score(y_true_labels, y_pred_labels))\n",
    "\n",
    "print('Accuracy:', sklearn.metrics.accuracy_score(y_true_labels, y_pred_labels), '\\n')\n",
    "print('F1:', sklearn.metrics.f1_score(y_true_labels,y_pred_labels, average='macro'),'\\n')\n",
    "\n",
    "#accuracy_plot(model, 'Accuracy: ' + specs)\n",
    "#loss_plot(model, 'Loss: ' + specs)\n",
    "\n",
    "class_names = ['0', '1']\n",
    "confusion_plot(y_true_labels, y_pred_labels, 'Confusion Matrix: ' + specs, class_names)\n",
    "\n",
    "# from TAs on piazza: use precision-recall, ROC can be misleading \n",
    "# modified code from sklearn documentation: https://scikit-learn.org/stable/modules/generated/sklearn.metrics.precision_recall_curve.html\n",
    "# and referenced: https://machinelearningmastery.com/roc-curves-and-precision-recall-curves-for-classification-in-python/\n",
    "from sklearn.metrics import precision_recall_curve, average_precision_score\n",
    "import matplotlib.pyplot as plt\n",
    "from sklearn.utils.fixes import signature\n",
    "\n",
    "average_precision = average_precision_score(y_true, y_pred)\n",
    "\n",
    "print('Average precision-recall score: {0:0.2f}'.format(\n",
    "      average_precision))\n",
    "\n",
    "precision, recall, _ = precision_recall_curve(y_true_labels, y_pred[:,1]) # look at positive class prob\n",
    "\n",
    "# In matplotlib < 1.5, plt.fill_between does not have a 'step' argument\n",
    "step_kwargs = ({'step': 'post'}\n",
    "               if 'step' in signature(plt.fill_between).parameters\n",
    "               else {})\n",
    "plt.step(recall, precision, color='b', alpha=0.2,\n",
    "         where='post')\n",
    "plt.fill_between(recall, precision, alpha=0.2, color='b', **step_kwargs)\n",
    "\n",
    "plt.xlabel('Recall')\n",
    "plt.ylabel('Precision')\n",
    "plt.ylim([0.0, 1.05])\n",
    "plt.xlim([0.0, 1.0])\n",
    "plt.title('2-class Precision-Recall curve: AP={0:0.2f}'.format(\n",
    "          average_precision))"
   ]
  },
  {
   "cell_type": "code",
   "execution_count": 10,
   "metadata": {},
   "outputs": [],
   "source": [
    "def embed_model_ablate(embed_dim, hidden_layers, l2_coeff, dropout_rate):\n",
    "    X_in = Input(shape=(seq_len,),dtype='float32')\n",
    "    E = Embedding(alph_len,1,input_length=seq_len)(X_in)\n",
    "    H = Flatten()(E)\n",
    "    H = Dropout(dropout_rate)(H)\n",
    "    for h in hidden_layers: \n",
    "        H = Dense(h, activation='relu', activity_regularizer = l2(l2_coeff))(H)\n",
    "        H = Dropout(dropout_rate)(H)\n",
    "    H = Dense(2,activation=\"softmax\",name='preds')(H)\n",
    "    model = Model(inputs=[X_in], outputs=H)\n",
    "    model.compile(loss='binary_crossentropy',optimizer='adam',metrics=['acc'])#[precision,recall])#metrics=[sensitivity, specificity])\n",
    "    return model"
   ]
  },
  {
   "cell_type": "code",
   "execution_count": 11,
   "metadata": {},
   "outputs": [
    {
     "name": "stdout",
     "output_type": "stream",
     "text": [
      "327078/327078 [==============================] - 2s 7us/step\n",
      "Epoch 0: Loss  0.6872907566511353  accuracy  0.7097710637829509\n",
      "Epoch 1/20\n",
      "327078/327078 [==============================] - 2s 6us/step - loss: 0.0234 - acc: 0.9981\n",
      "Epoch 2/20\n",
      "327078/327078 [==============================] - 2s 5us/step - loss: 0.0065 - acc: 0.9984\n",
      "Epoch 3/20\n",
      "327078/327078 [==============================] - 2s 5us/step - loss: 0.0044 - acc: 0.9987\n",
      "Epoch 4/20\n",
      "327078/327078 [==============================] - 2s 5us/step - loss: 0.0043 - acc: 0.9987\n",
      "Epoch 5/20\n",
      "327078/327078 [==============================] - 2s 5us/step - loss: 0.0042 - acc: 0.9988\n",
      "Epoch 6/20\n",
      "327078/327078 [==============================] - 2s 5us/step - loss: 0.0041 - acc: 0.9988\n",
      "Epoch 7/20\n",
      "327078/327078 [==============================] - 2s 5us/step - loss: 0.0041 - acc: 0.9988\n",
      "Epoch 8/20\n",
      "327078/327078 [==============================] - 2s 5us/step - loss: 0.0040 - acc: 0.9988\n",
      "Epoch 9/20\n",
      "327078/327078 [==============================] - 2s 5us/step - loss: 0.0040 - acc: 0.9988\n",
      "Epoch 10/20\n",
      "327078/327078 [==============================] - 2s 5us/step - loss: 0.0039 - acc: 0.9989\n",
      "Epoch 11/20\n",
      "327078/327078 [==============================] - 2s 6us/step - loss: 0.0039 - acc: 0.9988\n",
      "Epoch 12/20\n",
      "327078/327078 [==============================] - 2s 6us/step - loss: 0.0039 - acc: 0.9989\n",
      "Epoch 13/20\n",
      "327078/327078 [==============================] - 2s 6us/step - loss: 0.0038 - acc: 0.9989\n",
      "Epoch 14/20\n",
      "327078/327078 [==============================] - 2s 5us/step - loss: 0.0038 - acc: 0.9989\n",
      "Epoch 15/20\n",
      "327078/327078 [==============================] - 2s 6us/step - loss: 0.0038 - acc: 0.9989\n",
      "Epoch 16/20\n",
      "327078/327078 [==============================] - 2s 6us/step - loss: 0.0037 - acc: 0.9989A: 1s - los\n",
      "Epoch 17/20\n",
      "327078/327078 [==============================] - 2s 5us/step - loss: 0.0037 - acc: 0.9989\n",
      "Epoch 18/20\n",
      "327078/327078 [==============================] - 2s 6us/step - loss: 0.0037 - acc: 0.9989\n",
      "Epoch 19/20\n",
      "327078/327078 [==============================] - 2s 6us/step - loss: 0.0037 - acc: 0.9989\n",
      "Epoch 20/20\n",
      "327078/327078 [==============================] - 2s 6us/step - loss: 0.0036 - acc: 0.9989\n"
     ]
    },
    {
     "data": {
      "text/plain": [
       "<keras.callbacks.History at 0x130e6f6a0>"
      ]
     },
     "execution_count": 11,
     "metadata": {},
     "output_type": "execute_result"
    }
   ],
   "source": [
    "model2 = embed_model_ablate(embed_dim=5, hidden_layers=(50,), l2_coeff = 0.0, dropout_rate = 0.0)\n",
    "\n",
    "X = train_data\n",
    "y = train_bins\n",
    "num_epochs = 20\n",
    "#early_stopping = keras.callbacks.EarlyStopping(monitor='val_loss', min_delta=0.005, patience=10, verbose=0, mode='auto', baseline=None)\n",
    "initial_loss, initial_accuracy = model2.evaluate(X, y)\n",
    "print(\"Epoch 0: Loss \", initial_loss, \" accuracy \", initial_accuracy)\n",
    "model2.fit(X, y, epochs=num_epochs, batch_size=128)#,validation_data=(val_data, val_bins))#,callbacks=[early_stopping])"
   ]
  },
  {
   "cell_type": "code",
   "execution_count": 12,
   "metadata": {},
   "outputs": [
    {
     "name": "stdout",
     "output_type": "stream",
     "text": [
      "AUC: 0.682151116189314\n",
      "Accuracy: 0.9982788926321957 \n",
      "\n",
      "F1: 0.7335312902722395 \n",
      "\n",
      "Confusion matrix, without normalization\n",
      "[[81721    33]\n",
      " [  108    62]]\n"
     ]
    },
    {
     "data": {
      "image/png": "[encoded data removed]",
      "text/plain": [
       "<Figure size 432x288 with 2 Axes>"
      ]
     },
     "metadata": {
      "needs_background": "light"
     },
     "output_type": "display_data"
    },
    {
     "name": "stdout",
     "output_type": "stream",
     "text": [
      "All data confusion matrix\n",
      "[[1.00e+00 4.04e-04]\n",
      " [6.35e-01 3.65e-01]]\n"
     ]
    },
    {
     "data": {
      "image/png": "[encoded data removed]",
      "text/plain": [
       "<Figure size 432x288 with 2 Axes>"
      ]
     },
     "metadata": {
      "needs_background": "light"
     },
     "output_type": "display_data"
    },
    {
     "name": "stdout",
     "output_type": "stream",
     "text": [
      "Average precision-recall score: 0.78\n"
     ]
    },
    {
     "data": {
      "text/plain": [
       "Text(0.5, 1.0, '2-class Precision-Recall curve: AP=0.78')"
      ]
     },
     "execution_count": 12,
     "metadata": {},
     "output_type": "execute_result"
    },
    {
     "data": {
      "image/png": "[encoded data removed]",
      "text/plain": [
       "<Figure size 432x288 with 1 Axes>"
      ]
     },
     "metadata": {
      "needs_background": "light"
     },
     "output_type": "display_data"
    }
   ],
   "source": [
    "specs = 'Compress Alphabet to 1 Dim'\n",
    "\n",
    "X_new = test_data\n",
    "y_true = test_bins\n",
    "y_pred = model2.predict(X_new)\n",
    "\n",
    "y_true_labels = np.argmax(y_true, axis=1)\n",
    "y_pred_labels = np.argmax(y_pred, axis=1) \n",
    "from sklearn.metrics import roc_auc_score\n",
    "\n",
    "print('AUC:', roc_auc_score(y_true_labels, y_pred_labels))\n",
    "\n",
    "print('Accuracy:', sklearn.metrics.accuracy_score(y_true_labels, y_pred_labels), '\\n')\n",
    "print('F1:', sklearn.metrics.f1_score(y_true_labels,y_pred_labels, average='macro'),'\\n')\n",
    "\n",
    "#accuracy_plot(model, 'Accuracy: ' + specs)\n",
    "#loss_plot(model, 'Loss: ' + specs)\n",
    "\n",
    "class_names = ['0', '1']\n",
    "confusion_plot(y_true_labels, y_pred_labels, 'Confusion Matrix: ' + specs, class_names)\n",
    "\n",
    "# from TAs on piazza: use precision-recall, ROC can be misleading \n",
    "# modified code from sklearn documentation: https://scikit-learn.org/stable/modules/generated/sklearn.metrics.precision_recall_curve.html\n",
    "# and referenced: https://machinelearningmastery.com/roc-curves-and-precision-recall-curves-for-classification-in-python/\n",
    "from sklearn.metrics import precision_recall_curve, average_precision_score\n",
    "import matplotlib.pyplot as plt\n",
    "from sklearn.utils.fixes import signature\n",
    "\n",
    "average_precision = average_precision_score(y_true, y_pred)\n",
    "\n",
    "print('Average precision-recall score: {0:0.2f}'.format(\n",
    "      average_precision))\n",
    "\n",
    "precision, recall, _ = precision_recall_curve(y_true_labels, y_pred[:,1]) # look at positive class prob\n",
    "\n",
    "# In matplotlib < 1.5, plt.fill_between does not have a 'step' argument\n",
    "step_kwargs = ({'step': 'post'}\n",
    "               if 'step' in signature(plt.fill_between).parameters\n",
    "               else {})\n",
    "plt.step(recall, precision, color='b', alpha=0.2,\n",
    "         where='post')\n",
    "plt.fill_between(recall, precision, alpha=0.2, color='b', **step_kwargs)\n",
    "\n",
    "plt.xlabel('Recall')\n",
    "plt.ylabel('Precision')\n",
    "plt.ylim([0.0, 1.05])\n",
    "plt.xlim([0.0, 1.0])\n",
    "plt.title('2-class Precision-Recall curve: AP={0:0.2f}'.format(\n",
    "          average_precision))"
   ]
  },
  {
   "cell_type": "code",
   "execution_count": 13,
   "metadata": {},
   "outputs": [
    {
     "name": "stdout",
     "output_type": "stream",
     "text": [
      "[<keras.engine.input_layer.InputLayer object at 0x130e5fc50>, <keras.layers.embeddings.Embedding object at 0x130e5fc18>, <keras.layers.core.Flatten object at 0x130440b00>, <keras.layers.core.Dropout object at 0x130e5f128>, <keras.layers.core.Dense object at 0x130e5f198>, <keras.layers.core.Dropout object at 0x130e6fcc0>, <keras.layers.core.Dense object at 0x130e5fba8>]\n"
     ]
    },
    {
     "data": {
      "text/plain": [
       "<BarContainer object of 10 artists>"
      ]
     },
     "execution_count": 13,
     "metadata": {},
     "output_type": "execute_result"
    },
    {
     "data": {
      "image/png": "[encoded data removed]",
      "text/plain": [
       "<Figure size 432x288 with 1 Axes>"
      ]
     },
     "metadata": {
      "needs_background": "light"
     },
     "output_type": "display_data"
    }
   ],
   "source": [
    "# look at the learned weights to viz embedding of new alphabet\n",
    "weight_matrix = model2.layers[1].get_weights()[0]\n",
    "weights = pd.DataFrame(weight_matrix)\n",
    "print(model2.layers)\n",
    "import seaborn as sns\n",
    "reverse_map = {v:k for k,v in new_alph_map.items()}\n",
    "plt.bar([reverse_map[letter] for letter in new_alph], [w for w in weights[0]])#,yticklabels=[reverse_map[letter] for letter in new_alph])"
   ]
  },
  {
   "cell_type": "code",
   "execution_count": 14,
   "metadata": {},
   "outputs": [],
   "source": [
    "# shockingly, in only one dimension, learns that non-mutations are different (encodes w/ negative value)!!!!\n",
    "# is this just a function of frequency? b/c more often occurs \n",
    "# but, this model performs poorly. must need additional dimensions to encode the differences across point mutations (mismatches)"
   ]
  },
  {
   "cell_type": "code",
   "execution_count": null,
   "metadata": {},
   "outputs": [],
   "source": []
  }
 ],
 "metadata": {
  "kernelspec": {
   "display_name": "Python 3",
   "language": "python",
   "name": "python3"
  },
  "language_info": {
   "codemirror_mode": {
    "name": "ipython",
    "version": 3
   },
   "file_extension": ".py",
   "mimetype": "text/x-python",
   "name": "python",
   "nbconvert_exporter": "python",
   "pygments_lexer": "ipython3",
   "version": "3.6.7"
  }
 },
 "nbformat": 4,
 "nbformat_minor": 2
}
