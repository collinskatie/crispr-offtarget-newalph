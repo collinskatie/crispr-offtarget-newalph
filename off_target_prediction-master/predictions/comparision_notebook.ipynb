{
 "cells": [
  {
   "cell_type": "code",
   "execution_count": 1,
   "metadata": {},
   "outputs": [
    {
     "name": "stderr",
     "output_type": "stream",
     "text": [
      "Using TensorFlow backend.\n"
     ]
    }
   ],
   "source": [
    "import pickle as pkl\n",
    "import numpy as np\n",
    "import matplotlib.pyplot as plt\n",
    "from scipy import interp\n",
    "from sklearn.model_selection import train_test_split\n",
    "from keras.layers import Input, Dense, Conv2D, Flatten, BatchNormalization\n",
    "from keras.models import Model\n",
    "from keras.models import model_from_yaml\n",
    "import keras\n",
    "from sklearn.model_selection import StratifiedKFold\n",
    "from sklearn.metrics import mean_squared_error\n",
    "from sklearn import metrics\n",
    "import pandas as pd\n",
    "\n",
    "np.random.seed(5)\n",
    "from tensorflow import set_random_seed\n",
    "set_random_seed(12)\n"
   ]
  },
  {
   "cell_type": "code",
   "execution_count": 2,
   "metadata": {},
   "outputs": [],
   "source": [
    "# plotting\n",
    "\n",
    "import itertools\n",
    "import numpy as np\n",
    "import matplotlib.pyplot as plt\n",
    "\n",
    "from sklearn import svm, datasets\n",
    "from sklearn.model_selection import train_test_split\n",
    "from sklearn.metrics import confusion_matrix\n",
    "from sklearn import metrics\n",
    "\n",
    "def confusion_plot(y_true_labels, y_pred_labels, title, class_names): \n",
    "\n",
    "    def plot_confusion_matrix(cm, classes,\n",
    "                              normalize=False,\n",
    "                              title='Confusion matrix',\n",
    "                              cmap=plt.cm.Blues):\n",
    "        \"\"\"\n",
    "        This function prints and plots the confusion matrix.\n",
    "        Normalization can be applied by setting `normalize=True`.\n",
    "        \"\"\"\n",
    "        if normalize:\n",
    "            cm = cm.astype('float') / cm.sum(axis=1)[:, np.newaxis]\n",
    "            print(\"All data confusion matrix\")\n",
    "        else:\n",
    "            print('Confusion matrix, without normalization')\n",
    "\n",
    "        print(cm)\n",
    "\n",
    "        plt.imshow(cm, interpolation='nearest', cmap=cmap)\n",
    "        plt.title(title)\n",
    "        plt.colorbar()\n",
    "        tick_marks = np.arange(len(classes))\n",
    "        plt.xticks(tick_marks, classes, rotation=45)\n",
    "        plt.yticks(tick_marks, classes)\n",
    "\n",
    "        fmt = '.2f' if normalize else 'd'\n",
    "        thresh = cm.max() / 2.\n",
    "        for i, j in itertools.product(range(cm.shape[0]), range(cm.shape[1])):\n",
    "            plt.text(j, i, format(cm[i, j], fmt),\n",
    "                     horizontalalignment=\"center\",\n",
    "                     color=\"white\" if cm[i, j] > thresh else \"black\")\n",
    "\n",
    "        plt.tight_layout()\n",
    "        plt.ylabel('True label')\n",
    "        plt.xlabel('Predicted label')\n",
    "\n",
    "    # Compute confusion matrix\n",
    "    cnf_matrix = confusion_matrix(y_true_labels, y_pred_labels)\n",
    "    np.set_printoptions(precision=2)\n",
    "\n",
    "    # Plot non-normalized confusion matrix\n",
    "    plt.figure()\n",
    "    plot_confusion_matrix(cnf_matrix, classes=class_names, normalize=False,\n",
    "                          title=title)\n",
    "\n",
    "    plt.show()\n",
    "    \n",
    "    # Plot normalized confusion matrix\n",
    "    plt.figure()\n",
    "    plot_confusion_matrix(cnf_matrix, classes=class_names, normalize=True,\n",
    "                          title=title)\n",
    "\n",
    "    plt.show()"
   ]
  },
  {
   "cell_type": "code",
   "execution_count": 3,
   "metadata": {},
   "outputs": [],
   "source": [
    "def cnn_model(X_train, X_test, y_train, y_test):\n",
    "\n",
    "    # X_train, y_train = load_data()\n",
    "\n",
    "    inputs = Input(shape=(1, 23, 4), name='main_input')\n",
    "    conv_1 = Conv2D(10, (1, 1), padding='same', activation='relu')(inputs)\n",
    "    conv_2 = Conv2D(10, (1, 2), padding='same', activation='relu')(inputs)\n",
    "    conv_3 = Conv2D(10, (1, 3), padding='same', activation='relu')(inputs)\n",
    "    conv_4 = Conv2D(10, (1, 5), padding='same', activation='relu')(inputs)\n",
    "\n",
    "    conv_output = keras.layers.concatenate([conv_1, conv_2, conv_3, conv_4])\n",
    "\n",
    "    bn_output = BatchNormalization()(conv_output)\n",
    "\n",
    "    pooling_output = keras.layers.MaxPool2D(pool_size=(1, 5), strides=None, padding='valid')(bn_output)\n",
    "\n",
    "    flatten_output = Flatten()(pooling_output)\n",
    "\n",
    "    x = Dense(100, activation='relu')(flatten_output)\n",
    "    x = Dense(23, activation='relu')(x)\n",
    "    x = keras.layers.Dropout(rate=0.15)(x)\n",
    "\n",
    "    prediction = Dense(2, name='main_output')(x)\n",
    "\n",
    "    model = Model(inputs, prediction)\n",
    "\n",
    "    adam_opt = keras.optimizers.adam(lr = 0.0001)\n",
    "\n",
    "    model.compile(loss='binary_crossentropy', optimizer = adam_opt)\n",
    "    print(model.summary())\n",
    "    model.fit(X_train, y_train, batch_size=100, epochs=200, shuffle=True)\n",
    "\n",
    "    # later...\n",
    "    # X_test, y_test = load_crispor_data()\n",
    "    y_pred = model.predict(X_test).flatten()"
   ]
  },
  {
   "cell_type": "code",
   "execution_count": 4,
   "metadata": {},
   "outputs": [],
   "source": [
    "# moved outside of function to only load model once!!\n",
    "# load YAML and create model\n",
    "yaml_file = open('../CNN_std_model/model_cnn_v1.yaml', 'r')\n",
    "loaded_model_yaml = yaml_file.read()\n",
    "yaml_file.close()\n",
    "loaded_model = model_from_yaml(loaded_model_yaml)\n",
    "# load weights into new model\n",
    "loaded_model.load_weights(\"../CNN_std_model/model_cnn_v1.h5\")\n",
    "#print(\"Loaded model from disk\")\n",
    "\n",
    "def cnn_predict(guide_seq, off_seq):\n",
    "\n",
    "    code_dict = {'A': [1, 0, 0, 0], 'T': [0, 1, 0, 0], 'G': [0, 0, 1, 0], 'C': [0, 0, 0, 1]}\n",
    "    gRNA_list = list(guide_seq)\n",
    "    off_list = list(off_seq)\n",
    "    #print(len(gRNA_list))\n",
    "    if len(gRNA_list) != len(off_list):\n",
    "        #print(\"the length of sgRNA and DNA are not matched!\")\n",
    "        return 0\n",
    "    pair_code = []\n",
    "\n",
    "    for i in range(len(gRNA_list)):\n",
    "        if gRNA_list[i] == 'N':\n",
    "            gRNA_list[i] = off_list[i]\n",
    "        gRNA_base_code = code_dict[gRNA_list[i]]\n",
    "        DNA_based_code = code_dict[off_list[i]]\n",
    "        pair_code.append(list(np.bitwise_or(gRNA_base_code, DNA_based_code)))\n",
    "    input_code = np.array(pair_code).reshape(1, 1, 23, 4)\n",
    "\n",
    "#     # load YAML and create model\n",
    "#     yaml_file = open('../CNN_std_model/model_cnn_v1.yaml', 'r')\n",
    "#     loaded_model_yaml = yaml_file.read()\n",
    "#     yaml_file.close()\n",
    "#     loaded_model = model_from_yaml(loaded_model_yaml)\n",
    "#     # load weights into new model\n",
    "#     loaded_model.load_weights(\"../CNN_std_model/model_cnn_v1.h5\")\n",
    "#     #print(\"Loaded model from disk\")\n",
    "\n",
    "    y_pred = loaded_model.predict(input_code).flatten()\n",
    "    #print(y_pred)\n",
    "    return y_pred, input_code"
   ]
  },
  {
   "cell_type": "code",
   "execution_count": 5,
   "metadata": {},
   "outputs": [
    {
     "name": "stdout",
     "output_type": "stream",
     "text": [
      "done\n"
     ]
    }
   ],
   "source": [
    "from pysster.One_Hot_Encoder import One_Hot_Encoder\n",
    "\n",
    "from sklearn import preprocessing\n",
    "from sklearn.preprocessing import OneHotEncoder\n",
    "\n",
    "# read in train, val, test dfs \n",
    "data_dir = '../data/'\n",
    "# diff sheets, so need to read in \n",
    "file_name = data_dir + 'processed_binary_data' \n",
    "train_df = pd.read_csv(file_name+'_train.csv', sep = ',').reset_index()\n",
    "test_df = pd.read_csv(file_name+'_test.csv', sep = ',').reset_index()\n",
    "train_df.head(5)\n",
    "\n",
    "from keras.utils import to_categorical\n",
    "\n",
    "output_bin_col_name = 'Score'; \n",
    "\n",
    "# NOTE: need one-hot encoding of the labels \n",
    "train_bins = to_categorical(np.array(train_df[output_bin_col_name].astype(np.float32)))\n",
    "#val_bins = to_categorical(np.array(val_df[output_bin_col_name].astype(np.float32)))\n",
    "test_bins = to_categorical(np.array(test_df[output_bin_col_name].astype(np.float32)))\n",
    "\n",
    "print('done')"
   ]
  },
  {
   "cell_type": "code",
   "execution_count": 10,
   "metadata": {},
   "outputs": [
    {
     "name": "stdout",
     "output_type": "stream",
     "text": [
      "(1, 1, 23, 4)\n"
     ]
    }
   ],
   "source": [
    "results = cnn_predict(test_df['On-Target Site'][100], test_df['Off-Target Site'][100])\n",
    "print(results[1].shape)"
   ]
  },
  {
   "cell_type": "code",
   "execution_count": 13,
   "metadata": {},
   "outputs": [
    {
     "name": "stdout",
     "output_type": "stream",
     "text": [
      "precision: 0.46264367816091956\n",
      "recall: 0.9470588235294117\n"
     ]
    }
   ],
   "source": [
    "tp = 0\n",
    "tn = 0\n",
    "fp = 0\n",
    "fn = 0\n",
    "y_pred = []\n",
    "y_pred_labels = []\n",
    "y_true = test_bins\n",
    "y_true_labels = np.argmax(y_true, axis=1)\n",
    "input_codes = []\n",
    "for guide,ot, score in zip(test_df['On-Target Site'], test_df['Off-Target Site'], y_true_labels): \n",
    "    results = cnn_predict(guide,ot)\n",
    "    pred = results[0][0]\n",
    "    inp_code = results[1]\n",
    "    y_pred.append(pred)\n",
    "    if pred >= 0.5: \n",
    "        y_pred_labels.append(1)\n",
    "        if score == 1: tp += 1\n",
    "        else: fp += 1\n",
    "    else:\n",
    "        y_pred_labels.append(0)\n",
    "        if score == 1: fn += 1\n",
    "        else: tn += 1\n",
    "    input_codes.append(inp_code)\n",
    "total_samples = len(test_df)\n",
    "print('precision:', tp/(tp+fp))\n",
    "print('recall:', tp/(fn+tp))"
   ]
  },
  {
   "cell_type": "code",
   "execution_count": 14,
   "metadata": {},
   "outputs": [
    {
     "name": "stdout",
     "output_type": "stream",
     "text": [
      "accuracy: 0.9976075386943997\n"
     ]
    }
   ],
   "source": [
    "print('accuracy:', (tp + tn)/(tp+fp+tn+fn))"
   ]
  },
  {
   "cell_type": "code",
   "execution_count": 15,
   "metadata": {},
   "outputs": [
    {
     "name": "stdout",
     "output_type": "stream",
     "text": [
      "AUC: 0.9723857368374852\n",
      "Average precision-recall score: 0.48\n"
     ]
    },
    {
     "data": {
      "text/plain": [
       "Text(0.5, 1.0, '2-class Precision-Recall curve: AP=0.48')"
      ]
     },
     "execution_count": 15,
     "metadata": {},
     "output_type": "execute_result"
    },
    {
     "data": {
      "image/png": "[encoded data removed]",
      "text/plain": [
       "<Figure size 432x288 with 1 Axes>"
      ]
     },
     "metadata": {
      "needs_background": "light"
     },
     "output_type": "display_data"
    }
   ],
   "source": [
    "# from TAs on piazza: use precision-recall, ROC can be misleading \n",
    "# modified code from sklearn documentation: https://scikit-learn.org/stable/modules/generated/sklearn.metrics.precision_recall_curve.html\n",
    "# and referenced: https://machinelearningmastery.com/roc-curves-and-precision-recall-curves-for-classification-in-python/\n",
    "from sklearn.metrics import precision_recall_curve, average_precision_score\n",
    "import matplotlib.pyplot as plt\n",
    "from sklearn.utils.fixes import signature\n",
    "\n",
    "from sklearn.metrics import roc_auc_score\n",
    "\n",
    "print('AUC:', roc_auc_score(y_true_labels, y_pred_labels))\n",
    "\n",
    "#y_pred += 1\n",
    "#y_true_labels = abs(y_true_labels - 1)\n",
    "average_precision = average_precision_score(y_true_labels,y_pred)#(y_true, y_pred)\n",
    "\n",
    "print('Average precision-recall score: {0:0.2f}'.format(\n",
    "      average_precision))\n",
    "\n",
    "precision, recall, _ = precision_recall_curve(y_true_labels, y_pred) # look at positive class prob\n",
    "\n",
    "# In matplotlib < 1.5, plt.fill_between does not have a 'step' argument\n",
    "step_kwargs = ({'step': 'post'}\n",
    "               if 'step' in signature(plt.fill_between).parameters\n",
    "               else {})\n",
    "plt.step(recall, precision, color='b', alpha=0.2,\n",
    "         where='post')\n",
    "plt.fill_between(recall, precision, alpha=0.2, color='b', **step_kwargs)\n",
    "\n",
    "plt.xlabel('Recall')\n",
    "plt.ylabel('Precision')\n",
    "plt.ylim([0.0, 1.05])\n",
    "plt.xlim([0.0, 1.0])\n",
    "plt.title('2-class Precision-Recall curve: AP={0:0.2f}'.format(\n",
    "          average_precision))"
   ]
  },
  {
   "cell_type": "code",
   "execution_count": 16,
   "metadata": {},
   "outputs": [
    {
     "name": "stdout",
     "output_type": "stream",
     "text": [
      "F1: 0.8102107985656629 \n",
      "\n"
     ]
    }
   ],
   "source": [
    "from sklearn.metrics import f1_score\n",
    "print('F1:', f1_score(y_true_labels,y_pred_labels, average='macro'),'\\n')"
   ]
  },
  {
   "cell_type": "code",
   "execution_count": 17,
   "metadata": {},
   "outputs": [
    {
     "data": {
      "text/plain": [
       "array([[81567,   187],\n",
       "       [    9,   161]])"
      ]
     },
     "execution_count": 17,
     "metadata": {},
     "output_type": "execute_result"
    }
   ],
   "source": [
    "from sklearn.metrics import confusion_matrix\n",
    "#y_true = abs(y_true_labels - 1)\n",
    "confusion_matrix(y_true_labels, y_pred_labels)"
   ]
  },
  {
   "cell_type": "code",
   "execution_count": 18,
   "metadata": {},
   "outputs": [
    {
     "name": "stdout",
     "output_type": "stream",
     "text": [
      "Confusion matrix, without normalization\n",
      "[[81567   187]\n",
      " [    9   161]]\n"
     ]
    },
    {
     "data": {
      "image/png": "[encoded data removed]",
      "text/plain": [
       "<Figure size 432x288 with 2 Axes>"
      ]
     },
     "metadata": {
      "needs_background": "light"
     },
     "output_type": "display_data"
    },
    {
     "name": "stdout",
     "output_type": "stream",
     "text": [
      "All data confusion matrix\n",
      "[[1.   0.  ]\n",
      " [0.05 0.95]]\n"
     ]
    },
    {
     "data": {
      "image/png": "[encoded data removed]",
      "text/plain": [
       "<Figure size 432x288 with 2 Axes>"
      ]
     },
     "metadata": {
      "needs_background": "light"
     },
     "output_type": "display_data"
    }
   ],
   "source": [
    "confusion_plot(y_true_labels, y_pred_labels,'CNN', ['0','1'])"
   ]
  },
  {
   "cell_type": "code",
   "execution_count": null,
   "metadata": {},
   "outputs": [],
   "source": []
  }
 ],
 "metadata": {
  "kernelspec": {
   "display_name": "Python 3",
   "language": "python",
   "name": "python3"
  },
  "language_info": {
   "codemirror_mode": {
    "name": "ipython",
    "version": 3
   },
   "file_extension": ".py",
   "mimetype": "text/x-python",
   "name": "python",
   "nbconvert_exporter": "python",
   "pygments_lexer": "ipython3",
   "version": "3.6.7"
  }
 },
 "nbformat": 4,
 "nbformat_minor": 2
}
