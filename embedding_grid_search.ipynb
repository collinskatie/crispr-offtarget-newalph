{
 "cells": [
  {
   "cell_type": "code",
   "execution_count": 1,
   "metadata": {},
   "outputs": [
    {
     "name": "stderr",
     "output_type": "stream",
     "text": [
      "Using TensorFlow backend.\n"
     ]
    }
   ],
   "source": [
    "import os\n",
    "import platform\n",
    "import random\n",
    "import shutil\n",
    "import sys\n",
    "\n",
    "import h5py\n",
    "import numpy as np\n",
    "import matplotlib.pyplot as plt\n",
    "import pandas as pd\n",
    "import seaborn as sns\n",
    "import sklearn.metrics\n",
    "import tensorflow as tf\n",
    "from tensorflow.python.saved_model import tag_constants\n",
    "from tqdm import tqdm_notebook as tqdm\n",
    "import keras \n",
    "%matplotlib inline\n",
    "random.seed(0)\n",
    "\n",
    "from vis.visualization import visualize_saliency\n",
    "from vis.utils import utils\n",
    "from keras import activations"
   ]
  },
  {
   "cell_type": "code",
   "execution_count": 2,
   "metadata": {},
   "outputs": [
    {
     "data": {
      "text/html": [
       "<div>\n",
       "<style scoped>\n",
       "    .dataframe tbody tr th:only-of-type {\n",
       "        vertical-align: middle;\n",
       "    }\n",
       "\n",
       "    .dataframe tbody tr th {\n",
       "        vertical-align: top;\n",
       "    }\n",
       "\n",
       "    .dataframe thead th {\n",
       "        text-align: right;\n",
       "    }\n",
       "</style>\n",
       "<table border=\"1\" class=\"dataframe\">\n",
       "  <thead>\n",
       "    <tr style=\"text-align: right;\">\n",
       "      <th></th>\n",
       "      <th>index</th>\n",
       "      <th>Unnamed: 0</th>\n",
       "      <th>Unnamed: 0.1</th>\n",
       "      <th>On-Target Site</th>\n",
       "      <th>Off-Target Site</th>\n",
       "      <th>Score</th>\n",
       "      <th>Encoded Seqs</th>\n",
       "    </tr>\n",
       "  </thead>\n",
       "  <tbody>\n",
       "    <tr>\n",
       "      <th>0</th>\n",
       "      <td>0</td>\n",
       "      <td>0</td>\n",
       "      <td>0</td>\n",
       "      <td>AAATGAGAAGAAGAGGCACAGGG</td>\n",
       "      <td>AAAAGAGAAGCTGAGGCACAGGG</td>\n",
       "      <td>1.0</td>\n",
       "      <td>KKKREKEKKEZREKEEPKPKEEE</td>\n",
       "    </tr>\n",
       "    <tr>\n",
       "      <th>1</th>\n",
       "      <td>1</td>\n",
       "      <td>1</td>\n",
       "      <td>1</td>\n",
       "      <td>AAATGAGAAGAAGAGGCACAGGG</td>\n",
       "      <td>AAACGAGAAGAAGAGGCATAGGG</td>\n",
       "      <td>1.0</td>\n",
       "      <td>KKKMEKEKKEKKEKEEPKMKEEE</td>\n",
       "    </tr>\n",
       "    <tr>\n",
       "      <th>2</th>\n",
       "      <td>2</td>\n",
       "      <td>2</td>\n",
       "      <td>2</td>\n",
       "      <td>AAATGAGAAGAAGAGGCACAGGG</td>\n",
       "      <td>AAACGAGAAGAAGCTGCACATGG</td>\n",
       "      <td>1.0</td>\n",
       "      <td>KKKMEKEKKEKKEZJEPKPKJEE</td>\n",
       "    </tr>\n",
       "    <tr>\n",
       "      <th>3</th>\n",
       "      <td>3</td>\n",
       "      <td>4</td>\n",
       "      <td>4</td>\n",
       "      <td>AAATGAGAAGAAGAGGCACAGGG</td>\n",
       "      <td>AAATCATATGAAGAGGCACAAGG</td>\n",
       "      <td>1.0</td>\n",
       "      <td>KKKLHKJKREKKEKEEPKPKYEE</td>\n",
       "    </tr>\n",
       "    <tr>\n",
       "      <th>4</th>\n",
       "      <td>4</td>\n",
       "      <td>5</td>\n",
       "      <td>5</td>\n",
       "      <td>AAATGAGAAGAAGAGGCACAGGG</td>\n",
       "      <td>AAATGAGAAAAATAGGCAGAGGG</td>\n",
       "      <td>1.0</td>\n",
       "      <td>KKKLEKEKKYKKJKEEPKHKEEE</td>\n",
       "    </tr>\n",
       "  </tbody>\n",
       "</table>\n",
       "</div>"
      ],
      "text/plain": [
       "   index  Unnamed: 0  Unnamed: 0.1           On-Target Site  \\\n",
       "0      0           0             0  AAATGAGAAGAAGAGGCACAGGG   \n",
       "1      1           1             1  AAATGAGAAGAAGAGGCACAGGG   \n",
       "2      2           2             2  AAATGAGAAGAAGAGGCACAGGG   \n",
       "3      3           4             4  AAATGAGAAGAAGAGGCACAGGG   \n",
       "4      4           5             5  AAATGAGAAGAAGAGGCACAGGG   \n",
       "\n",
       "           Off-Target Site  Score             Encoded Seqs  \n",
       "0  AAAAGAGAAGCTGAGGCACAGGG    1.0  KKKREKEKKEZREKEEPKPKEEE  \n",
       "1  AAACGAGAAGAAGAGGCATAGGG    1.0  KKKMEKEKKEKKEKEEPKMKEEE  \n",
       "2  AAACGAGAAGAAGCTGCACATGG    1.0  KKKMEKEKKEKKEZJEPKPKJEE  \n",
       "3  AAATCATATGAAGAGGCACAAGG    1.0  KKKLHKJKREKKEKEEPKPKYEE  \n",
       "4  AAATGAGAAAAATAGGCAGAGGG    1.0  KKKLEKEKKYKKJKEEPKHKEEE  "
      ]
     },
     "execution_count": 2,
     "metadata": {},
     "output_type": "execute_result"
    }
   ],
   "source": [
    "# read in train, val, test dfs \n",
    "data_dir = './data/'\n",
    "# diff sheets, so need to read in \n",
    "file_name = data_dir + 'processed_binary_data' \n",
    "train_df = pd.read_csv(file_name+'_train.csv', sep = ',').reset_index()\n",
    "test_df = pd.read_csv(file_name+'_test.csv', sep = ',').reset_index()\n",
    "train_df.head(5)"
   ]
  },
  {
   "cell_type": "code",
   "execution_count": 3,
   "metadata": {},
   "outputs": [
    {
     "name": "stdout",
     "output_type": "stream",
     "text": [
      "Guide length:  23\n",
      "Off-target: 23\n"
     ]
    }
   ],
   "source": [
    "# check lengths -- confirm all are same when comparing across datasets\n",
    "seq_len = len(train_df['On-Target Site'][0])\n",
    "print('Guide length: ', seq_len) # NOTE: WT seq is the reverse complement of guide \n",
    "print('Off-target:', len(train_df['Off-Target Site'][0]))"
   ]
  },
  {
   "cell_type": "code",
   "execution_count": 4,
   "metadata": {},
   "outputs": [],
   "source": [
    "from pysster.One_Hot_Encoder import One_Hot_Encoder\n",
    "\n",
    "from sklearn import preprocessing\n",
    "from sklearn.preprocessing import OneHotEncoder\n",
    "new_alph_map = {'AA': 'K', 'AT': 'R', 'AC': 'Z', 'AG': 'Y', 'TT': 'L', 'TC': 'M', 'TG':'J', \n",
    "                'CC': 'P', 'CG':'H', 'GG': 'E'}\n",
    "\n",
    "new_alph = list(new_alph_map.values())\n",
    "\n",
    "# one-hot encode\n",
    "#modified code from Luis to get correct format for TPOT w/ my alphabet\n",
    "one = One_Hot_Encoder(''.join(new_alph))\n",
    "    \n",
    "def _get_one_hot_encoding(seq):\n",
    "    one_hot_seq = one.encode(seq)                         \n",
    "    encoded_seq = np.argmax((one_hot_seq), axis=1) \n",
    "    return encoded_seq\n",
    "    #return pd.get_dummies(\n",
    "      #list(seq) + new_alph)[:-len(new_alph)].as_matrix().transpose()\n",
    "\n",
    "# now convert the data into one_hot_encoding \n",
    "input_col_name = 'Encoded Seqs'\n",
    "train_data = np.stack(\n",
    "    [_get_one_hot_encoding(s) for s in train_df[input_col_name]]).astype(np.float32)\n",
    "#val_data = np.stack(\n",
    "    #[_get_one_hot_encoding(s) for s in val_df[input_col_name]]).astype(np.float32)\n",
    "test_data = np.stack(\n",
    "    [_get_one_hot_encoding(s) for s in test_df[input_col_name]]).astype(np.float32)"
   ]
  },
  {
   "cell_type": "code",
   "execution_count": 5,
   "metadata": {},
   "outputs": [
    {
     "name": "stdout",
     "output_type": "stream",
     "text": [
      "done\n"
     ]
    }
   ],
   "source": [
    "alph_len = len(new_alph)\n",
    "\n",
    "from keras.utils import to_categorical\n",
    "\n",
    "output_bin_col_name = 'Score'; \n",
    "\n",
    "# NOTE: need one-hot encoding of the labels \n",
    "train_bins = to_categorical(np.array(train_df[output_bin_col_name].astype(np.float32)))\n",
    "#val_bins = to_categorical(np.array(val_df[output_bin_col_name].astype(np.float32)))\n",
    "test_bins = to_categorical(np.array(test_df[output_bin_col_name].astype(np.float32)))\n",
    "\n",
    "print('done')"
   ]
  },
  {
   "cell_type": "code",
   "execution_count": 6,
   "metadata": {},
   "outputs": [],
   "source": [
    "from keras.layers.core import Permute\n",
    "from keras import backend as K\n",
    "from keras.engine.topology import Layer\n",
    "import numpy as np\n",
    "import keras as keras\n",
    "from keras.callbacks import TensorBoard\n",
    "from keras import metrics as metrics\n",
    "from keras.models import Sequential, Model\n",
    "from keras.layers import Dense, Dropout, Activation, Flatten, Input, Embedding\n",
    "from keras.optimizers import SGD\n",
    "\n",
    "def embed_model(embed_dim, hidden_layers):\n",
    "    X_in = Input(shape=(seq_len,),dtype='float32')\n",
    "    E = Embedding(alph_len,embed_dim,input_length=seq_len)(X_in)\n",
    "    H = Flatten()(E)\n",
    "    for h in hidden_layers: \n",
    "        H = Dense(h, activation='relu')(H)\n",
    "#     H = Dense(1,activation=\"sigmoid\",name='preds')(H)\n",
    "    H = Dense(2,activation=\"softmax\",name='preds')(H)\n",
    "    model = Model(inputs=[X_in], outputs=H)\n",
    "    model.compile(loss='binary_crossentropy',optimizer='adam',metrics=['acc'])#[precision,recall])#metrics=[sensitivity, specificity])\n",
    "    return model"
   ]
  },
  {
   "cell_type": "code",
   "execution_count": 10,
   "metadata": {},
   "outputs": [
    {
     "name": "stdout",
     "output_type": "stream",
     "text": [
      "Average precision-recall score: 0.8289504862312473\n",
      "AUC: 0.774639406540683\n",
      "Accuracy: 0.9987526025663368\n",
      "F1: 0.8031558631166464\n",
      "Average precision-recall score: 0.7859987451055784\n",
      "AUC: 0.7405574556036961\n",
      "Accuracy: 0.9985324601471208\n",
      "F1: 0.7670743957876585\n",
      "Average precision-recall score: 0.8250580308515802\n",
      "AUC: 0.7944382249324787\n",
      "Accuracy: 0.9986883742260949\n",
      "F1: 0.8048486524432743\n",
      "Average precision-recall score: 0.8406942064892109\n",
      "AUC: 0.7668227559444355\n",
      "Accuracy: 0.9987984627661038\n",
      "F1: 0.8041767654363187\n",
      "Average precision-recall score: 0.8212905664052963\n",
      "AUC: 0.7641682002416357\n",
      "Accuracy: 0.9987159026287308\n",
      "F1: 0.7950001087878853\n",
      "Average precision-recall score: 0.83767926289696\n",
      "AUC: 0.7551207404738703\n",
      "Accuracy: 0.9988626461820683\n",
      "F1: 0.8047466928069325\n",
      "Average precision-recall score: 0.8360914299566943\n",
      "AUC: 0.7381188257888954\n",
      "Accuracy: 0.9988810111256845\n",
      "F1: 0.7990619674904829\n",
      "Average precision-recall score: 0.8162435232044589\n",
      "AUC: 0.7537429371566594\n",
      "Accuracy: 0.9987709353732137\n",
      "F1: 0.7954239782656135\n",
      "Average precision-recall score: 0.8445824245397179\n",
      "AUC: 0.7813538359612451\n",
      "Accuracy: 0.9987892685163953\n",
      "F1: 0.8089453909842903\n",
      "Average precision-recall score: 0.8240408551519921\n",
      "AUC: 0.7928261918263494\n",
      "Accuracy: 0.9985416456474084\n",
      "F1: 0.7920629683384606\n",
      "Average precision-recall score: 0.791060626236877\n",
      "AUC: 0.6962248198856187\n",
      "Accuracy: 0.9987159026287308\n",
      "F1: 0.7582992377948845\n",
      "Average precision-recall score: 0.821817559700055\n",
      "AUC: 0.8179662357068765\n",
      "Accuracy: 0.9984590690208668\n",
      "F1: 0.7947359927559945\n",
      "Average precision-recall score: 0.842958787142651\n",
      "AUC: 0.7747129116309105\n",
      "Accuracy: 0.9988993552055913\n",
      "F1: 0.8179062399267797\n",
      "Average precision-recall score: 0.8248960465134807\n",
      "AUC: 0.7511205419991884\n",
      "Accuracy: 0.9987525911250528\n",
      "F1: 0.7923706048068913\n",
      "Average precision-recall score: 0.8573664093301698\n",
      "AUC: 0.7972030330800124\n",
      "Accuracy: 0.9989635404723687\n",
      "F1: 0.8330738149810222\n",
      "Average precision-recall score: 0.8553166263127211\n",
      "AUC: 0.7825800969766893\n",
      "Accuracy: 0.9989543874453117\n",
      "F1: 0.8270109279304407\n",
      "Average precision-recall score: 0.8111485745081888\n",
      "AUC: 0.7771699173805777\n",
      "Accuracy: 0.9985874928916039\n",
      "F1: 0.7892637658423028\n",
      "Average precision-recall score: 0.8594141790589478\n",
      "AUC: 0.7998208296963294\n",
      "Accuracy: 0.9989451960559504\n",
      "F1: 0.8320973995848941\n"
     ]
    }
   ],
   "source": [
    "from sklearn.model_selection import StratifiedKFold\n",
    "from sklearn.metrics import roc_auc_score\n",
    "from sklearn.metrics import precision_recall_curve, average_precision_score\n",
    "import matplotlib.pyplot as plt\n",
    "from sklearn.utils.fixes import signature\n",
    "\n",
    "# fix random seed for reproducibility\n",
    "seed = 7\n",
    "np.random.seed(seed)\n",
    "# define k-fold cross validation test harness\n",
    "num_folds = 3\n",
    "num_epochs = 20\n",
    "kfold = StratifiedKFold(n_splits=num_folds, shuffle=True, random_state=seed)\n",
    "all_scores = {}\n",
    "X = train_data\n",
    "y = train_bins\n",
    "\n",
    "\n",
    "embed_dims = [3,5]\n",
    "hidden_layer_choices = [(50,10), (50,), (30,)]\n",
    "\n",
    "for embed_dim in embed_dims: \n",
    "    for hidden_layers in hidden_layer_choices: \n",
    "        param_combo = (embed_dim, hidden_layers)\n",
    "        cvscores = []\n",
    "        for train, test in kfold.split(X, y.argmax(1)):\n",
    "          # create model\n",
    "            model = embed_model(embed_dim = embed_dim, hidden_layers=hidden_layers)\n",
    "            #early_stopping = keras.callbacks.EarlyStopping(monitor='val_loss', min_delta=0.005, patience=10, verbose=0, mode='auto', baseline=None)\n",
    "            model.fit(X[train], y[train],epochs=num_epochs, batch_size=128,verbose=0)#,callbacks=[early_stopping])\n",
    "            # evaluate the model\n",
    "\n",
    "            y_pred = model.predict(X[test])\n",
    "            y_true = y[test]\n",
    "\n",
    "            y_true_labels = np.argmax(y[test], axis=1)\n",
    "            y_pred_labels = np.argmax(y_pred, axis=1) \n",
    "\n",
    "            average_precision = average_precision_score(y_true, y_pred)\n",
    "            auc = roc_auc_score(y_true_labels, y_pred_labels)\n",
    "            acc = sklearn.metrics.accuracy_score(y_true_labels, y_pred_labels)\n",
    "            f1_val = sklearn.metrics.f1_score(y_true_labels,y_pred_labels, average='macro')\n",
    "            print('Average precision-recall score:', average_precision)\n",
    "            print('AUC:', auc)\n",
    "            print('Accuracy:', acc)\n",
    "            print('F1:', f1_val)\n",
    "            cvscores.append([average_precision, auc, acc, f1_val])\n",
    "        all_scores[param_combo] = cvscores\n"
   ]
  },
  {
   "cell_type": "code",
   "execution_count": 26,
   "metadata": {},
   "outputs": [],
   "source": [
    "d = pd.DataFrame.from_dict(all_scores)\n",
    "d.to_csv('embed_grid_search_all.csv')"
   ]
  },
  {
   "cell_type": "code",
   "execution_count": 27,
   "metadata": {},
   "outputs": [],
   "source": [
    "cv_means = {k:sum(np.array(v)/num_folds) for k,v in all_scores.items()}"
   ]
  },
  {
   "cell_type": "code",
   "execution_count": 28,
   "metadata": {},
   "outputs": [
    {
     "data": {
      "text/plain": [
       "{(3, (50, 10)): array([0.81333575, 0.76987836, 0.99865781, 0.79169297]),\n",
       " (3, (50,)): array([0.83322135, 0.76203723, 0.99879234, 0.80130786]),\n",
       " (3, (30,)): array([0.83230579, 0.75773853, 0.99881374, 0.80114378]),\n",
       " (5, (50, 10)): array([0.81230635, 0.76900575, 0.99857221, 0.7816994 ]),\n",
       " (5, (50,)): array([0.84174041, 0.7743455 , 0.99887183, 0.81445022]),\n",
       " (5, (30,)): array([0.84195979, 0.78652361, 0.99882903, 0.81612403])}"
      ]
     },
     "execution_count": 28,
     "metadata": {},
     "output_type": "execute_result"
    }
   ],
   "source": [
    "cv_means"
   ]
  },
  {
   "cell_type": "code",
   "execution_count": 52,
   "metadata": {},
   "outputs": [
    {
     "data": {
      "text/plain": [
       "<BarContainer object of 6 artists>"
      ]
     },
     "execution_count": 52,
     "metadata": {},
     "output_type": "execute_result"
    },
    {
     "data": {
      "image/png": "[encoded data removed]",
      "text/plain": [
       "<Figure size 432x288 with 1 Axes>"
      ]
     },
     "metadata": {
      "needs_background": "light"
     },
     "output_type": "display_data"
    }
   ],
   "source": [
    "cv_means_df = pd.DataFrame.from_dict(cv_means)\n",
    "param_combos = list(cv_means.keys())\n",
    "score_vals = [cv_means[k][0] for k in param_combos]\n",
    "plt.bar(range(len(param_combos)),score_vals)"
   ]
  },
  {
   "cell_type": "code",
   "execution_count": 66,
   "metadata": {},
   "outputs": [
    {
     "data": {
      "text/plain": [
       "<matplotlib.axes._subplots.AxesSubplot at 0x140dd46a0>"
      ]
     },
     "execution_count": 66,
     "metadata": {},
     "output_type": "execute_result"
    },
    {
     "data": {
      "image/png": "[encoded data removed]",
      "text/plain": [
       "<Figure size 432x288 with 1 Axes>"
      ]
     },
     "metadata": {
      "needs_background": "light"
     },
     "output_type": "display_data"
    }
   ],
   "source": [
    "prec_recall_scores = []\n",
    "for params in param_combos:\n",
    "    folds = all_scores[params]\n",
    "    prec_recall_scores.append([fold[0] for fold in folds])\n",
    "param_combos_str = [str(params) for params in param_combos]\n",
    "sns.boxplot(param_combos_str, prec_recall_scores)"
   ]
  },
  {
   "cell_type": "code",
   "execution_count": null,
   "metadata": {},
   "outputs": [],
   "source": [
    "# best => embed_dim = 5, hidden_layers = (50,)"
   ]
  }
 ],
 "metadata": {
  "kernelspec": {
   "display_name": "Python 3",
   "language": "python",
   "name": "python3"
  },
  "language_info": {
   "codemirror_mode": {
    "name": "ipython",
    "version": 3
   },
   "file_extension": ".py",
   "mimetype": "text/x-python",
   "name": "python",
   "nbconvert_exporter": "python",
   "pygments_lexer": "ipython3",
   "version": "3.6.7"
  }
 },
 "nbformat": 4,
 "nbformat_minor": 2
}
