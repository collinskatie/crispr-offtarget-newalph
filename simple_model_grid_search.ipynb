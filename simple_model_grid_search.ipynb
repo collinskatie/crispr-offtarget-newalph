{
 "cells": [
  {
   "cell_type": "code",
   "execution_count": 1,
   "metadata": {},
   "outputs": [
    {
     "name": "stderr",
     "output_type": "stream",
     "text": [
      "Using TensorFlow backend.\n"
     ]
    }
   ],
   "source": [
    "import os\n",
    "import platform\n",
    "import random\n",
    "import shutil\n",
    "import sys\n",
    "\n",
    "import h5py\n",
    "import numpy as np\n",
    "import matplotlib.pyplot as plt\n",
    "import pandas as pd\n",
    "import seaborn as sns\n",
    "import sklearn.metrics\n",
    "import tensorflow as tf\n",
    "from tensorflow.python.saved_model import tag_constants\n",
    "from tqdm import tqdm_notebook as tqdm\n",
    "import keras \n",
    "%matplotlib inline\n",
    "random.seed(0)\n",
    "\n",
    "from vis.visualization import visualize_saliency\n",
    "from vis.utils import utils\n",
    "from keras import activations"
   ]
  },
  {
   "cell_type": "code",
   "execution_count": 2,
   "metadata": {},
   "outputs": [
    {
     "data": {
      "text/html": [
       "<div>\n",
       "<style scoped>\n",
       "    .dataframe tbody tr th:only-of-type {\n",
       "        vertical-align: middle;\n",
       "    }\n",
       "\n",
       "    .dataframe tbody tr th {\n",
       "        vertical-align: top;\n",
       "    }\n",
       "\n",
       "    .dataframe thead th {\n",
       "        text-align: right;\n",
       "    }\n",
       "</style>\n",
       "<table border=\"1\" class=\"dataframe\">\n",
       "  <thead>\n",
       "    <tr style=\"text-align: right;\">\n",
       "      <th></th>\n",
       "      <th>index</th>\n",
       "      <th>Unnamed: 0</th>\n",
       "      <th>Unnamed: 0.1</th>\n",
       "      <th>On-Target Site</th>\n",
       "      <th>Off-Target Site</th>\n",
       "      <th>Score</th>\n",
       "      <th>Encoded Seqs</th>\n",
       "    </tr>\n",
       "  </thead>\n",
       "  <tbody>\n",
       "    <tr>\n",
       "      <th>0</th>\n",
       "      <td>0</td>\n",
       "      <td>0</td>\n",
       "      <td>0</td>\n",
       "      <td>AAATGAGAAGAAGAGGCACAGGG</td>\n",
       "      <td>AAAAGAGAAGCTGAGGCACAGGG</td>\n",
       "      <td>1.0</td>\n",
       "      <td>KKKREKEKKEZREKEEPKPKEEE</td>\n",
       "    </tr>\n",
       "    <tr>\n",
       "      <th>1</th>\n",
       "      <td>1</td>\n",
       "      <td>1</td>\n",
       "      <td>1</td>\n",
       "      <td>AAATGAGAAGAAGAGGCACAGGG</td>\n",
       "      <td>AAACGAGAAGAAGAGGCATAGGG</td>\n",
       "      <td>1.0</td>\n",
       "      <td>KKKMEKEKKEKKEKEEPKMKEEE</td>\n",
       "    </tr>\n",
       "    <tr>\n",
       "      <th>2</th>\n",
       "      <td>2</td>\n",
       "      <td>2</td>\n",
       "      <td>2</td>\n",
       "      <td>AAATGAGAAGAAGAGGCACAGGG</td>\n",
       "      <td>AAACGAGAAGAAGCTGCACATGG</td>\n",
       "      <td>1.0</td>\n",
       "      <td>KKKMEKEKKEKKEZJEPKPKJEE</td>\n",
       "    </tr>\n",
       "    <tr>\n",
       "      <th>3</th>\n",
       "      <td>3</td>\n",
       "      <td>4</td>\n",
       "      <td>4</td>\n",
       "      <td>AAATGAGAAGAAGAGGCACAGGG</td>\n",
       "      <td>AAATCATATGAAGAGGCACAAGG</td>\n",
       "      <td>1.0</td>\n",
       "      <td>KKKLHKJKREKKEKEEPKPKYEE</td>\n",
       "    </tr>\n",
       "    <tr>\n",
       "      <th>4</th>\n",
       "      <td>4</td>\n",
       "      <td>5</td>\n",
       "      <td>5</td>\n",
       "      <td>AAATGAGAAGAAGAGGCACAGGG</td>\n",
       "      <td>AAATGAGAAAAATAGGCAGAGGG</td>\n",
       "      <td>1.0</td>\n",
       "      <td>KKKLEKEKKYKKJKEEPKHKEEE</td>\n",
       "    </tr>\n",
       "  </tbody>\n",
       "</table>\n",
       "</div>"
      ],
      "text/plain": [
       "   index  Unnamed: 0  Unnamed: 0.1           On-Target Site  \\\n",
       "0      0           0             0  AAATGAGAAGAAGAGGCACAGGG   \n",
       "1      1           1             1  AAATGAGAAGAAGAGGCACAGGG   \n",
       "2      2           2             2  AAATGAGAAGAAGAGGCACAGGG   \n",
       "3      3           4             4  AAATGAGAAGAAGAGGCACAGGG   \n",
       "4      4           5             5  AAATGAGAAGAAGAGGCACAGGG   \n",
       "\n",
       "           Off-Target Site  Score             Encoded Seqs  \n",
       "0  AAAAGAGAAGCTGAGGCACAGGG    1.0  KKKREKEKKEZREKEEPKPKEEE  \n",
       "1  AAACGAGAAGAAGAGGCATAGGG    1.0  KKKMEKEKKEKKEKEEPKMKEEE  \n",
       "2  AAACGAGAAGAAGCTGCACATGG    1.0  KKKMEKEKKEKKEZJEPKPKJEE  \n",
       "3  AAATCATATGAAGAGGCACAAGG    1.0  KKKLHKJKREKKEKEEPKPKYEE  \n",
       "4  AAATGAGAAAAATAGGCAGAGGG    1.0  KKKLEKEKKYKKJKEEPKHKEEE  "
      ]
     },
     "execution_count": 2,
     "metadata": {},
     "output_type": "execute_result"
    }
   ],
   "source": [
    "# read in train, val, test dfs \n",
    "data_dir = './data/'\n",
    "# diff sheets, so need to read in \n",
    "file_name = data_dir + 'processed_binary_data' \n",
    "train_df = pd.read_csv(file_name+'_train.csv', sep = ',').reset_index()\n",
    "test_df = pd.read_csv(file_name+'_test.csv', sep = ',').reset_index()\n",
    "train_df.head(5)"
   ]
  },
  {
   "cell_type": "code",
   "execution_count": 3,
   "metadata": {},
   "outputs": [
    {
     "name": "stdout",
     "output_type": "stream",
     "text": [
      "Guide length:  23\n",
      "Off-target: 23\n"
     ]
    }
   ],
   "source": [
    "# check lengths -- confirm all are same when comparing across datasets\n",
    "seq_len = len(train_df['On-Target Site'][0])\n",
    "print('Guide length: ', seq_len) # NOTE: WT seq is the reverse complement of guide \n",
    "print('Off-target:', len(train_df['Off-Target Site'][0]))"
   ]
  },
  {
   "cell_type": "code",
   "execution_count": 5,
   "metadata": {},
   "outputs": [
    {
     "name": "stderr",
     "output_type": "stream",
     "text": [
      "/Users/kcollins/anaconda/envs/deeptoehold/lib/python3.6/site-packages/ipykernel_launcher.py:19: FutureWarning: Method .as_matrix will be removed in a future version. Use .values instead.\n"
     ]
    }
   ],
   "source": [
    "from pysster.One_Hot_Encoder import One_Hot_Encoder\n",
    "\n",
    "from sklearn import preprocessing\n",
    "from sklearn.preprocessing import OneHotEncoder\n",
    "new_alph_map = {'AA': 'K', 'AT': 'R', 'AC': 'Z', 'AG': 'Y', 'TT': 'L', 'TC': 'M', 'TG':'J', \n",
    "                'CC': 'P', 'CG':'H', 'GG': 'E'}\n",
    "\n",
    "new_alph = list(new_alph_map.values())\n",
    "alph_len = len(new_alph)\n",
    "\n",
    "# one-hot encode\n",
    "#modified code from Luis to get correct format for TPOT w/ my alphabet\n",
    "one = One_Hot_Encoder(''.join(new_alph))\n",
    "    \n",
    "# one-hot encode\n",
    "def _get_one_hot_encoding(seq):\n",
    "  \"\"\"Generate one-hot encoding for a single nucleotide sequence.\"\"\"\n",
    "  return pd.get_dummies(\n",
    "      list(seq) + new_alph)[:-len(new_alph)].as_matrix().transpose()\n",
    "\n",
    "# now convert the data into one_hot_encoding \n",
    "input_col_name = 'Encoded Seqs'\n",
    "train_data = np.stack(\n",
    "    [_get_one_hot_encoding(s) for s in train_df[input_col_name]]).astype(np.float32)\n",
    "#val_data = np.stack(\n",
    "    #[_get_one_hot_encoding(s) for s in val_df[input_col_name]]).astype(np.float32)\n",
    "test_data = np.stack(\n",
    "    [_get_one_hot_encoding(s) for s in test_df[input_col_name]]).astype(np.float32)\n",
    "train_data_f = np.reshape(train_data, (-1, alph_len * seq_len))\n",
    "#val_data_f = np.reshape(val_data, (-1, alph_len * seq_len))\n",
    "test_data_f = np.reshape(test_data, (-1, alph_len * seq_len))"
   ]
  },
  {
   "cell_type": "code",
   "execution_count": 6,
   "metadata": {},
   "outputs": [
    {
     "name": "stdout",
     "output_type": "stream",
     "text": [
      "done\n"
     ]
    }
   ],
   "source": [
    "from keras.utils import to_categorical\n",
    "\n",
    "output_bin_col_name = 'Score'; \n",
    "\n",
    "# NOTE: need one-hot encoding of the labels \n",
    "train_bins = to_categorical(np.array(train_df[output_bin_col_name].astype(np.float32)))\n",
    "#val_bins = to_categorical(np.array(val_df[output_bin_col_name].astype(np.float32)))\n",
    "test_bins = to_categorical(np.array(test_df[output_bin_col_name].astype(np.float32)))\n",
    "\n",
    "print('done')"
   ]
  },
  {
   "cell_type": "code",
   "execution_count": 7,
   "metadata": {},
   "outputs": [],
   "source": [
    "from keras.layers.core import Permute\n",
    "from keras import backend as K\n",
    "from keras.engine.topology import Layer\n",
    "import numpy as np\n",
    "import keras as keras\n",
    "from keras.callbacks import TensorBoard\n",
    "from keras import metrics as metrics\n",
    "from keras.models import Sequential, Model\n",
    "from keras.layers import Dense, Dropout, Activation, Flatten, Input, Embedding\n",
    "from keras.optimizers import SGD\n",
    "\n",
    "def simple_model(hidden_layers):\n",
    "    X_in = Input(shape=(seq_len*alph_len,),dtype='float32')\n",
    "    H = X_in # to reset so can be passed to any hidden layer width\n",
    "    for h in hidden_layers: \n",
    "        H = Dense(h, activation='relu')(H)\n",
    "    H = Dense(2,activation=\"softmax\",name='preds')(H)\n",
    "    model = Model(inputs=[X_in], outputs=H)\n",
    "    model.compile(loss='binary_crossentropy',optimizer='adam',metrics=['acc'])#[precision,recall])#metrics=[sensitivity, specificity])\n",
    "    return model\n"
   ]
  },
  {
   "cell_type": "code",
   "execution_count": 9,
   "metadata": {},
   "outputs": [
    {
     "name": "stdout",
     "output_type": "stream",
     "text": [
      "Average precision-recall score: 0.8169662099448993\n",
      "AUC: 0.7093413905431276\n",
      "Accuracy: 0.9988168068460106\n",
      "F1: 0.7765204181486074\n",
      "Average precision-recall score: 0.8028326909707422\n",
      "AUC: 0.766758436626653\n",
      "Accuracy: 0.9986700420083283\n",
      "F1: 0.7919305878028644\n",
      "Average precision-recall score: 0.827903644285126\n",
      "AUC: 0.7472397859628167\n",
      "Accuracy: 0.9988626461820683\n",
      "F1: 0.8009973053947923\n",
      "Average precision-recall score: 0.8055155345927186\n",
      "AUC: 0.7693257052880754\n",
      "Accuracy: 0.998578333807222\n",
      "F1: 0.7849625536218232\n",
      "Average precision-recall score: 0.7955651084508791\n",
      "AUC: 0.7562918265485218\n",
      "Accuracy: 0.9986425256360868\n",
      "F1: 0.784543816103584\n",
      "Average precision-recall score: 0.8392494288666543\n",
      "AUC: 0.7761458073907146\n",
      "Accuracy: 0.9988809905984866\n",
      "F1: 0.8159848812938856\n",
      "Average precision-recall score: 0.8161694015370238\n",
      "AUC: 0.7590198875526057\n",
      "Accuracy: 0.9988718390857311\n",
      "F1: 0.8081287589176678\n",
      "Average precision-recall score: 0.7925164005714447\n",
      "AUC: 0.6961834728924639\n",
      "Accuracy: 0.9986333535120063\n",
      "F1: 0.750493989638501\n",
      "Average precision-recall score: 0.8350603438228478\n",
      "AUC: 0.7708826494959777\n",
      "Accuracy: 0.9988626461820683\n",
      "F1: 0.8118364426925881\n",
      "Average precision-recall score: 0.8496004109597836\n",
      "AUC: 0.7564250568461813\n",
      "Accuracy: 0.9989085272455447\n",
      "F1: 0.8108378481678625\n",
      "Average precision-recall score: 0.820320466236762\n",
      "AUC: 0.7276154618993109\n",
      "Accuracy: 0.9987801074972942\n",
      "F1: 0.7830822190406956\n",
      "Average precision-recall score: 0.8346847655287988\n",
      "AUC: 0.7682602587693103\n",
      "Accuracy: 0.9988718183902775\n",
      "F1: 0.8116441364958007\n",
      "Average precision-recall score: 0.8333093286020027\n",
      "AUC: 0.7511894547519404\n",
      "Accuracy: 0.9988901831656378\n",
      "F1: 0.8064314121301279\n",
      "Average precision-recall score: 0.8145305039755539\n",
      "AUC: 0.7771928879323304\n",
      "Accuracy: 0.9986333535120063\n",
      "F1: 0.7932865806600683\n",
      "Average precision-recall score: 0.8348622155422898\n",
      "AUC: 0.7945163248084377\n",
      "Accuracy: 0.9988443017656501\n",
      "F1: 0.8197106109324759\n"
     ]
    }
   ],
   "source": [
    "from sklearn.model_selection import StratifiedKFold\n",
    "from sklearn.metrics import roc_auc_score\n",
    "from sklearn.metrics import precision_recall_curve, average_precision_score\n",
    "import matplotlib.pyplot as plt\n",
    "from sklearn.utils.fixes import signature\n",
    "\n",
    "# fix random seed for reproducibility\n",
    "seed = 7\n",
    "np.random.seed(seed)\n",
    "# define k-fold cross validation test harness\n",
    "num_folds = 3\n",
    "num_epochs = 20\n",
    "kfold = StratifiedKFold(n_splits=num_folds, shuffle=True, random_state=seed)\n",
    "all_scores = {}\n",
    "X = train_data_f\n",
    "y = train_bins\n",
    "\n",
    "\n",
    "hidden_layer_choices = [(150,50,10), (150,50),(100,30), (100,),(30,)]\n",
    "\n",
    "for hidden_layers in hidden_layer_choices: \n",
    "    param_combo = hidden_layers\n",
    "    cvscores = []\n",
    "    for train, test in kfold.split(X, y.argmax(1)):\n",
    "      # create model\n",
    "        model = simple_model(hidden_layers=hidden_layers)\n",
    "        #early_stopping = keras.callbacks.EarlyStopping(monitor='val_loss', min_delta=0.005, patience=10, verbose=0, mode='auto', baseline=None)\n",
    "        model.fit(X[train], y[train],epochs=num_epochs, batch_size=128,verbose=0)#,callbacks=[early_stopping])\n",
    "        # evaluate the model\n",
    "\n",
    "        y_pred = model.predict(X[test])\n",
    "        y_true = y[test]\n",
    "\n",
    "        y_true_labels = np.argmax(y[test], axis=1)\n",
    "        y_pred_labels = np.argmax(y_pred, axis=1) \n",
    "\n",
    "        average_precision = average_precision_score(y_true, y_pred)\n",
    "        auc = roc_auc_score(y_true_labels, y_pred_labels)\n",
    "        acc = sklearn.metrics.accuracy_score(y_true_labels, y_pred_labels)\n",
    "        f1_val = sklearn.metrics.f1_score(y_true_labels,y_pred_labels, average='macro')\n",
    "        print('Average precision-recall score:', average_precision)\n",
    "        print('AUC:', auc)\n",
    "        print('Accuracy:', acc)\n",
    "        print('F1:', f1_val)\n",
    "        cvscores.append([average_precision, auc, acc, f1_val])\n",
    "    all_scores[param_combo] = cvscores"
   ]
  },
  {
   "cell_type": "code",
   "execution_count": 10,
   "metadata": {},
   "outputs": [],
   "source": [
    "d = pd.DataFrame.from_dict(all_scores)\n",
    "d.to_csv('simple_grid_search_all.csv')"
   ]
  },
  {
   "cell_type": "code",
   "execution_count": 11,
   "metadata": {},
   "outputs": [
    {
     "data": {
      "text/html": [
       "<div>\n",
       "<style scoped>\n",
       "    .dataframe tbody tr th:only-of-type {\n",
       "        vertical-align: middle;\n",
       "    }\n",
       "\n",
       "    .dataframe tbody tr th {\n",
       "        vertical-align: top;\n",
       "    }\n",
       "\n",
       "    .dataframe thead tr th {\n",
       "        text-align: left;\n",
       "    }\n",
       "</style>\n",
       "<table border=\"1\" class=\"dataframe\">\n",
       "  <thead>\n",
       "    <tr>\n",
       "      <th></th>\n",
       "      <th colspan=\"2\" halign=\"left\">150</th>\n",
       "      <th colspan=\"2\" halign=\"left\">100</th>\n",
       "      <th>30</th>\n",
       "    </tr>\n",
       "    <tr>\n",
       "      <th></th>\n",
       "      <th colspan=\"2\" halign=\"left\">50</th>\n",
       "      <th>30</th>\n",
       "      <th>NaN</th>\n",
       "      <th>NaN</th>\n",
       "    </tr>\n",
       "    <tr>\n",
       "      <th></th>\n",
       "      <th>10</th>\n",
       "      <th>NaN</th>\n",
       "      <th>NaN</th>\n",
       "      <th>NaN</th>\n",
       "      <th>NaN</th>\n",
       "    </tr>\n",
       "  </thead>\n",
       "  <tbody>\n",
       "    <tr>\n",
       "      <th>0</th>\n",
       "      <td>[0.8169662099448993, 0.7093413905431276, 0.998...</td>\n",
       "      <td>[0.8055155345927186, 0.7693257052880754, 0.998...</td>\n",
       "      <td>[0.8161694015370238, 0.7590198875526057, 0.998...</td>\n",
       "      <td>[0.8496004109597836, 0.7564250568461813, 0.998...</td>\n",
       "      <td>[0.8333093286020027, 0.7511894547519404, 0.998...</td>\n",
       "    </tr>\n",
       "    <tr>\n",
       "      <th>1</th>\n",
       "      <td>[0.8028326909707422, 0.766758436626653, 0.9986...</td>\n",
       "      <td>[0.7955651084508791, 0.7562918265485218, 0.998...</td>\n",
       "      <td>[0.7925164005714447, 0.6961834728924639, 0.998...</td>\n",
       "      <td>[0.820320466236762, 0.7276154618993109, 0.9987...</td>\n",
       "      <td>[0.8145305039755539, 0.7771928879323304, 0.998...</td>\n",
       "    </tr>\n",
       "    <tr>\n",
       "      <th>2</th>\n",
       "      <td>[0.827903644285126, 0.7472397859628167, 0.9988...</td>\n",
       "      <td>[0.8392494288666543, 0.7761458073907146, 0.998...</td>\n",
       "      <td>[0.8350603438228478, 0.7708826494959777, 0.998...</td>\n",
       "      <td>[0.8346847655287988, 0.7682602587693103, 0.998...</td>\n",
       "      <td>[0.8348622155422898, 0.7945163248084377, 0.998...</td>\n",
       "    </tr>\n",
       "  </tbody>\n",
       "</table>\n",
       "</div>"
      ],
      "text/plain": [
       "                                                 150  \\\n",
       "                                                  50   \n",
       "                                                  10   \n",
       "0  [0.8169662099448993, 0.7093413905431276, 0.998...   \n",
       "1  [0.8028326909707422, 0.766758436626653, 0.9986...   \n",
       "2  [0.827903644285126, 0.7472397859628167, 0.9988...   \n",
       "\n",
       "                                                      \\\n",
       "                                                       \n",
       "                                                 NaN   \n",
       "0  [0.8055155345927186, 0.7693257052880754, 0.998...   \n",
       "1  [0.7955651084508791, 0.7562918265485218, 0.998...   \n",
       "2  [0.8392494288666543, 0.7761458073907146, 0.998...   \n",
       "\n",
       "                                                 100  \\\n",
       "                                                  30   \n",
       "                                                 NaN   \n",
       "0  [0.8161694015370238, 0.7590198875526057, 0.998...   \n",
       "1  [0.7925164005714447, 0.6961834728924639, 0.998...   \n",
       "2  [0.8350603438228478, 0.7708826494959777, 0.998...   \n",
       "\n",
       "                                                      \\\n",
       "                                                 NaN   \n",
       "                                                 NaN   \n",
       "0  [0.8496004109597836, 0.7564250568461813, 0.998...   \n",
       "1  [0.820320466236762, 0.7276154618993109, 0.9987...   \n",
       "2  [0.8346847655287988, 0.7682602587693103, 0.998...   \n",
       "\n",
       "                                                 30   \n",
       "                                                 NaN  \n",
       "                                                 NaN  \n",
       "0  [0.8333093286020027, 0.7511894547519404, 0.998...  \n",
       "1  [0.8145305039755539, 0.7771928879323304, 0.998...  \n",
       "2  [0.8348622155422898, 0.7945163248084377, 0.998...  "
      ]
     },
     "execution_count": 11,
     "metadata": {},
     "output_type": "execute_result"
    }
   ],
   "source": [
    "d"
   ]
  },
  {
   "cell_type": "code",
   "execution_count": 12,
   "metadata": {},
   "outputs": [],
   "source": [
    "cv_means = {k:sum(np.array(v)/num_folds) for k,v in all_scores.items()}"
   ]
  },
  {
   "cell_type": "code",
   "execution_count": 13,
   "metadata": {},
   "outputs": [
    {
     "data": {
      "text/plain": [
       "<BarContainer object of 5 artists>"
      ]
     },
     "execution_count": 13,
     "metadata": {},
     "output_type": "execute_result"
    },
    {
     "data": {
      "image/png": "[encoded data removed]",
      "text/plain": [
       "<Figure size 432x288 with 1 Axes>"
      ]
     },
     "metadata": {
      "needs_background": "light"
     },
     "output_type": "display_data"
    }
   ],
   "source": [
    "cv_means_df = pd.DataFrame.from_dict(cv_means)\n",
    "param_combos = list(cv_means.keys())\n",
    "score_vals = [cv_means[k][0] for k in param_combos]\n",
    "plt.bar(range(len(param_combos)),score_vals)"
   ]
  },
  {
   "cell_type": "code",
   "execution_count": 16,
   "metadata": {},
   "outputs": [
    {
     "data": {
      "text/plain": [
       "[(150, 50, 10), (150, 50), (100, 30), (100,), (30,)]"
      ]
     },
     "execution_count": 16,
     "metadata": {},
     "output_type": "execute_result"
    }
   ],
   "source": [
    "param_combos"
   ]
  },
  {
   "cell_type": "code",
   "execution_count": 22,
   "metadata": {},
   "outputs": [],
   "source": [
    "prec_recall_scores = []\n",
    "for params in param_combos:\n",
    "    folds = all_scores[params]\n",
    "    prec_recall_scores.append([fold[0] for fold in folds])\n",
    "param_combos_str = [str(params) for params in param_combos]"
   ]
  },
  {
   "cell_type": "code",
   "execution_count": 23,
   "metadata": {},
   "outputs": [
    {
     "data": {
      "text/plain": [
       "<matplotlib.axes._subplots.AxesSubplot at 0x1452509b0>"
      ]
     },
     "execution_count": 23,
     "metadata": {},
     "output_type": "execute_result"
    },
    {
     "data": {
      "image/png": "[encoded data removed]",
      "text/plain": [
       "<Figure size 432x288 with 1 Axes>"
      ]
     },
     "metadata": {
      "needs_background": "light"
     },
     "output_type": "display_data"
    }
   ],
   "source": [
    "sns.boxplot(param_combos_str, prec_recall_scores)"
   ]
  },
  {
   "cell_type": "code",
   "execution_count": null,
   "metadata": {},
   "outputs": [],
   "source": [
    "# best => hidden_layers = (100,)"
   ]
  }
 ],
 "metadata": {
  "kernelspec": {
   "display_name": "Python 3",
   "language": "python",
   "name": "python3"
  },
  "language_info": {
   "codemirror_mode": {
    "name": "ipython",
    "version": 3
   },
   "file_extension": ".py",
   "mimetype": "text/x-python",
   "name": "python",
   "nbconvert_exporter": "python",
   "pygments_lexer": "ipython3",
   "version": "3.6.7"
  }
 },
 "nbformat": 4,
 "nbformat_minor": 2
}
